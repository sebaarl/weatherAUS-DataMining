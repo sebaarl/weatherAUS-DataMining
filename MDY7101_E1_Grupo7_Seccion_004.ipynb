{
  "cells": [
    {
      "cell_type": "markdown",
      "metadata": {
        "id": "ITB4wsgg3VJM"
      },
      "source": [
        "# Identificación de integrantes\n",
        "\n",
        "+ Sebastian Rivera\n",
        "+ Cristobal Novoa\n",
        "+ Brandon Cameron"
      ]
    },
    {
      "cell_type": "markdown",
      "metadata": {
        "id": "w6G_Z0Cq3jdV"
      },
      "source": [
        "# Carga de librerías"
      ]
    },
    {
      "cell_type": "code",
      "execution_count": 2,
      "metadata": {
        "id": "U9Y7QEbc3O28"
      },
      "outputs": [],
      "source": [
        "# Escriba su código acá\n",
        "import pandas as pd\n",
        "import numpy as np\n",
        "import matplotlib.pyplot as plt\n",
        "import seaborn as sns\n",
        "from sklearn.preprocessing import LabelEncoder, OneHotEncoder\n",
        "from sklearn.preprocessing import MinMaxScaler, StandardScaler\n",
        "import datetime\n",
        "\n",
        "plt.rcParams[\"figure.figsize\"] = (12,5)"
      ]
    },
    {
      "cell_type": "markdown",
      "metadata": {
        "id": "Rtk0B3bn3o49"
      },
      "source": [
        "# Carga de set de datos"
      ]
    },
    {
      "cell_type": "code",
      "execution_count": 3,
      "metadata": {
        "id": "ciUXTu4g3rlX",
        "outputId": "9bd91e58-5467-42d3-9cb0-52898639bb7d"
      },
      "outputs": [
        {
          "data": {
            "text/html": [
              "<div>\n",
              "<style scoped>\n",
              "    .dataframe tbody tr th:only-of-type {\n",
              "        vertical-align: middle;\n",
              "    }\n",
              "\n",
              "    .dataframe tbody tr th {\n",
              "        vertical-align: top;\n",
              "    }\n",
              "\n",
              "    .dataframe thead th {\n",
              "        text-align: right;\n",
              "    }\n",
              "</style>\n",
              "<table border=\"1\" class=\"dataframe\">\n",
              "  <thead>\n",
              "    <tr style=\"text-align: right;\">\n",
              "      <th></th>\n",
              "      <th>Date</th>\n",
              "      <th>Location</th>\n",
              "      <th>MinTemp</th>\n",
              "      <th>MaxTemp</th>\n",
              "      <th>Rainfall</th>\n",
              "      <th>Evaporation</th>\n",
              "      <th>Sunshine</th>\n",
              "      <th>WindGustDir</th>\n",
              "      <th>WindGustSpeed</th>\n",
              "      <th>WindDir9am</th>\n",
              "      <th>...</th>\n",
              "      <th>Humidity3pm</th>\n",
              "      <th>Pressure9am</th>\n",
              "      <th>Pressure3pm</th>\n",
              "      <th>Cloud9am</th>\n",
              "      <th>Cloud3pm</th>\n",
              "      <th>Temp9am</th>\n",
              "      <th>Temp3pm</th>\n",
              "      <th>RainToday</th>\n",
              "      <th>RISK_MM</th>\n",
              "      <th>RainTomorrow</th>\n",
              "    </tr>\n",
              "  </thead>\n",
              "  <tbody>\n",
              "    <tr>\n",
              "      <th>0</th>\n",
              "      <td>2008-12-01</td>\n",
              "      <td>Albury</td>\n",
              "      <td>13.4</td>\n",
              "      <td>22.9</td>\n",
              "      <td>0.6</td>\n",
              "      <td>NaN</td>\n",
              "      <td>NaN</td>\n",
              "      <td>W</td>\n",
              "      <td>44.0</td>\n",
              "      <td>W</td>\n",
              "      <td>...</td>\n",
              "      <td>22.0</td>\n",
              "      <td>1007.7</td>\n",
              "      <td>1007.1</td>\n",
              "      <td>8.0</td>\n",
              "      <td>NaN</td>\n",
              "      <td>16.9</td>\n",
              "      <td>21.8</td>\n",
              "      <td>No</td>\n",
              "      <td>0.0</td>\n",
              "      <td>No</td>\n",
              "    </tr>\n",
              "    <tr>\n",
              "      <th>1</th>\n",
              "      <td>2008-12-02</td>\n",
              "      <td>Albury</td>\n",
              "      <td>7.4</td>\n",
              "      <td>25.1</td>\n",
              "      <td>0.0</td>\n",
              "      <td>NaN</td>\n",
              "      <td>NaN</td>\n",
              "      <td>WNW</td>\n",
              "      <td>44.0</td>\n",
              "      <td>NNW</td>\n",
              "      <td>...</td>\n",
              "      <td>25.0</td>\n",
              "      <td>1010.6</td>\n",
              "      <td>1007.8</td>\n",
              "      <td>NaN</td>\n",
              "      <td>NaN</td>\n",
              "      <td>17.2</td>\n",
              "      <td>24.3</td>\n",
              "      <td>No</td>\n",
              "      <td>0.0</td>\n",
              "      <td>No</td>\n",
              "    </tr>\n",
              "    <tr>\n",
              "      <th>2</th>\n",
              "      <td>2008-12-03</td>\n",
              "      <td>Albury</td>\n",
              "      <td>12.9</td>\n",
              "      <td>25.7</td>\n",
              "      <td>0.0</td>\n",
              "      <td>NaN</td>\n",
              "      <td>NaN</td>\n",
              "      <td>WSW</td>\n",
              "      <td>46.0</td>\n",
              "      <td>W</td>\n",
              "      <td>...</td>\n",
              "      <td>30.0</td>\n",
              "      <td>1007.6</td>\n",
              "      <td>1008.7</td>\n",
              "      <td>NaN</td>\n",
              "      <td>2.0</td>\n",
              "      <td>21.0</td>\n",
              "      <td>23.2</td>\n",
              "      <td>No</td>\n",
              "      <td>0.0</td>\n",
              "      <td>No</td>\n",
              "    </tr>\n",
              "    <tr>\n",
              "      <th>3</th>\n",
              "      <td>2008-12-04</td>\n",
              "      <td>Albury</td>\n",
              "      <td>9.2</td>\n",
              "      <td>28.0</td>\n",
              "      <td>0.0</td>\n",
              "      <td>NaN</td>\n",
              "      <td>NaN</td>\n",
              "      <td>NE</td>\n",
              "      <td>24.0</td>\n",
              "      <td>SE</td>\n",
              "      <td>...</td>\n",
              "      <td>16.0</td>\n",
              "      <td>1017.6</td>\n",
              "      <td>1012.8</td>\n",
              "      <td>NaN</td>\n",
              "      <td>NaN</td>\n",
              "      <td>18.1</td>\n",
              "      <td>26.5</td>\n",
              "      <td>No</td>\n",
              "      <td>1.0</td>\n",
              "      <td>No</td>\n",
              "    </tr>\n",
              "    <tr>\n",
              "      <th>4</th>\n",
              "      <td>2008-12-05</td>\n",
              "      <td>Albury</td>\n",
              "      <td>17.5</td>\n",
              "      <td>32.3</td>\n",
              "      <td>1.0</td>\n",
              "      <td>NaN</td>\n",
              "      <td>NaN</td>\n",
              "      <td>W</td>\n",
              "      <td>41.0</td>\n",
              "      <td>ENE</td>\n",
              "      <td>...</td>\n",
              "      <td>33.0</td>\n",
              "      <td>1010.8</td>\n",
              "      <td>1006.0</td>\n",
              "      <td>7.0</td>\n",
              "      <td>8.0</td>\n",
              "      <td>17.8</td>\n",
              "      <td>29.7</td>\n",
              "      <td>No</td>\n",
              "      <td>0.2</td>\n",
              "      <td>No</td>\n",
              "    </tr>\n",
              "  </tbody>\n",
              "</table>\n",
              "<p>5 rows × 24 columns</p>\n",
              "</div>"
            ],
            "text/plain": [
              "         Date Location  MinTemp  MaxTemp  Rainfall  Evaporation  Sunshine  \\\n",
              "0  2008-12-01   Albury     13.4     22.9       0.6          NaN       NaN   \n",
              "1  2008-12-02   Albury      7.4     25.1       0.0          NaN       NaN   \n",
              "2  2008-12-03   Albury     12.9     25.7       0.0          NaN       NaN   \n",
              "3  2008-12-04   Albury      9.2     28.0       0.0          NaN       NaN   \n",
              "4  2008-12-05   Albury     17.5     32.3       1.0          NaN       NaN   \n",
              "\n",
              "  WindGustDir  WindGustSpeed WindDir9am  ... Humidity3pm  Pressure9am  \\\n",
              "0           W           44.0          W  ...        22.0       1007.7   \n",
              "1         WNW           44.0        NNW  ...        25.0       1010.6   \n",
              "2         WSW           46.0          W  ...        30.0       1007.6   \n",
              "3          NE           24.0         SE  ...        16.0       1017.6   \n",
              "4           W           41.0        ENE  ...        33.0       1010.8   \n",
              "\n",
              "   Pressure3pm  Cloud9am  Cloud3pm  Temp9am  Temp3pm  RainToday  RISK_MM  \\\n",
              "0       1007.1       8.0       NaN     16.9     21.8         No      0.0   \n",
              "1       1007.8       NaN       NaN     17.2     24.3         No      0.0   \n",
              "2       1008.7       NaN       2.0     21.0     23.2         No      0.0   \n",
              "3       1012.8       NaN       NaN     18.1     26.5         No      1.0   \n",
              "4       1006.0       7.0       8.0     17.8     29.7         No      0.2   \n",
              "\n",
              "   RainTomorrow  \n",
              "0            No  \n",
              "1            No  \n",
              "2            No  \n",
              "3            No  \n",
              "4            No  \n",
              "\n",
              "[5 rows x 24 columns]"
            ]
          },
          "execution_count": 3,
          "metadata": {},
          "output_type": "execute_result"
        }
      ],
      "source": [
        "df_weather = pd.read_csv(\"weatherAUS.csv\")\n",
        "df_weather.head()"
      ]
    },
    {
      "cell_type": "code",
      "execution_count": 4,
      "metadata": {
        "id": "obqjV9hcpgou",
        "outputId": "1c620bb0-2a9c-4e72-d345-cd8af7e459c6"
      },
      "outputs": [
        {
          "name": "stdout",
          "output_type": "stream",
          "text": [
            "El dataset presenta 142193 observaciones considerando 24 variables\n"
          ]
        }
      ],
      "source": [
        "print(\"El dataset presenta {0} observaciones considerando {1} variables\".format(df_weather.shape[0], df_weather.shape[1]))"
      ]
    },
    {
      "cell_type": "code",
      "execution_count": 5,
      "metadata": {
        "id": "I8uoK1KJpgov",
        "outputId": "47c24cbd-cded-4309-8d16-174ae91e7522"
      },
      "outputs": [
        {
          "data": {
            "text/plain": [
              "Index(['date', 'location', 'mintemp', 'maxtemp', 'rainfall', 'evaporation',\n",
              "       'sunshine', 'windgustdir', 'windgustspeed', 'winddir9am', 'winddir3pm',\n",
              "       'windspeed9am', 'windspeed3pm', 'humidity9am', 'humidity3pm',\n",
              "       'pressure9am', 'pressure3pm', 'cloud9am', 'cloud3pm', 'temp9am',\n",
              "       'temp3pm', 'raintoday', 'risk_mm', 'raintomorrow'],\n",
              "      dtype='object')"
            ]
          },
          "execution_count": 5,
          "metadata": {},
          "output_type": "execute_result"
        }
      ],
      "source": [
        "df_weather.columns = pd.DataFrame(df_weather.columns)[0].apply(lambda x : x.lower()).values\n",
        "df_weather.columns"
      ]
    },
    {
      "cell_type": "code",
      "execution_count": 6,
      "metadata": {
        "id": "4WLTipuGpgov",
        "outputId": "6467e4e9-8c32-4fe5-e3f9-5516b2b8b169"
      },
      "outputs": [
        {
          "data": {
            "text/html": [
              "<div>\n",
              "<style scoped>\n",
              "    .dataframe tbody tr th:only-of-type {\n",
              "        vertical-align: middle;\n",
              "    }\n",
              "\n",
              "    .dataframe tbody tr th {\n",
              "        vertical-align: top;\n",
              "    }\n",
              "\n",
              "    .dataframe thead th {\n",
              "        text-align: right;\n",
              "    }\n",
              "</style>\n",
              "<table border=\"1\" class=\"dataframe\">\n",
              "  <thead>\n",
              "    <tr style=\"text-align: right;\">\n",
              "      <th></th>\n",
              "      <th>mintemp</th>\n",
              "      <th>maxtemp</th>\n",
              "      <th>rainfall</th>\n",
              "      <th>evaporation</th>\n",
              "      <th>sunshine</th>\n",
              "      <th>windgustspeed</th>\n",
              "      <th>windspeed9am</th>\n",
              "      <th>windspeed3pm</th>\n",
              "      <th>humidity9am</th>\n",
              "      <th>humidity3pm</th>\n",
              "      <th>pressure9am</th>\n",
              "      <th>pressure3pm</th>\n",
              "      <th>cloud9am</th>\n",
              "      <th>cloud3pm</th>\n",
              "      <th>temp9am</th>\n",
              "      <th>temp3pm</th>\n",
              "      <th>risk_mm</th>\n",
              "    </tr>\n",
              "  </thead>\n",
              "  <tbody>\n",
              "    <tr>\n",
              "      <th>count</th>\n",
              "      <td>141556.000000</td>\n",
              "      <td>141871.000000</td>\n",
              "      <td>140787.000000</td>\n",
              "      <td>81350.000000</td>\n",
              "      <td>74377.000000</td>\n",
              "      <td>132923.000000</td>\n",
              "      <td>140845.000000</td>\n",
              "      <td>139563.000000</td>\n",
              "      <td>140419.000000</td>\n",
              "      <td>138583.000000</td>\n",
              "      <td>128179.000000</td>\n",
              "      <td>128212.000000</td>\n",
              "      <td>88536.000000</td>\n",
              "      <td>85099.000000</td>\n",
              "      <td>141289.000000</td>\n",
              "      <td>139467.000000</td>\n",
              "      <td>142193.000000</td>\n",
              "    </tr>\n",
              "    <tr>\n",
              "      <th>mean</th>\n",
              "      <td>12.186400</td>\n",
              "      <td>23.226784</td>\n",
              "      <td>2.349974</td>\n",
              "      <td>5.469824</td>\n",
              "      <td>7.624853</td>\n",
              "      <td>39.984292</td>\n",
              "      <td>14.001988</td>\n",
              "      <td>18.637576</td>\n",
              "      <td>68.843810</td>\n",
              "      <td>51.482606</td>\n",
              "      <td>1017.653758</td>\n",
              "      <td>1015.258204</td>\n",
              "      <td>4.437189</td>\n",
              "      <td>4.503167</td>\n",
              "      <td>16.987509</td>\n",
              "      <td>21.687235</td>\n",
              "      <td>2.360682</td>\n",
              "    </tr>\n",
              "    <tr>\n",
              "      <th>std</th>\n",
              "      <td>6.403283</td>\n",
              "      <td>7.117618</td>\n",
              "      <td>8.465173</td>\n",
              "      <td>4.188537</td>\n",
              "      <td>3.781525</td>\n",
              "      <td>13.588801</td>\n",
              "      <td>8.893337</td>\n",
              "      <td>8.803345</td>\n",
              "      <td>19.051293</td>\n",
              "      <td>20.797772</td>\n",
              "      <td>7.105476</td>\n",
              "      <td>7.036677</td>\n",
              "      <td>2.887016</td>\n",
              "      <td>2.720633</td>\n",
              "      <td>6.492838</td>\n",
              "      <td>6.937594</td>\n",
              "      <td>8.477969</td>\n",
              "    </tr>\n",
              "    <tr>\n",
              "      <th>min</th>\n",
              "      <td>-8.500000</td>\n",
              "      <td>-4.800000</td>\n",
              "      <td>0.000000</td>\n",
              "      <td>0.000000</td>\n",
              "      <td>0.000000</td>\n",
              "      <td>6.000000</td>\n",
              "      <td>0.000000</td>\n",
              "      <td>0.000000</td>\n",
              "      <td>0.000000</td>\n",
              "      <td>0.000000</td>\n",
              "      <td>980.500000</td>\n",
              "      <td>977.100000</td>\n",
              "      <td>0.000000</td>\n",
              "      <td>0.000000</td>\n",
              "      <td>-7.200000</td>\n",
              "      <td>-5.400000</td>\n",
              "      <td>0.000000</td>\n",
              "    </tr>\n",
              "    <tr>\n",
              "      <th>25%</th>\n",
              "      <td>7.600000</td>\n",
              "      <td>17.900000</td>\n",
              "      <td>0.000000</td>\n",
              "      <td>2.600000</td>\n",
              "      <td>4.900000</td>\n",
              "      <td>31.000000</td>\n",
              "      <td>7.000000</td>\n",
              "      <td>13.000000</td>\n",
              "      <td>57.000000</td>\n",
              "      <td>37.000000</td>\n",
              "      <td>1012.900000</td>\n",
              "      <td>1010.400000</td>\n",
              "      <td>1.000000</td>\n",
              "      <td>2.000000</td>\n",
              "      <td>12.300000</td>\n",
              "      <td>16.600000</td>\n",
              "      <td>0.000000</td>\n",
              "    </tr>\n",
              "    <tr>\n",
              "      <th>50%</th>\n",
              "      <td>12.000000</td>\n",
              "      <td>22.600000</td>\n",
              "      <td>0.000000</td>\n",
              "      <td>4.800000</td>\n",
              "      <td>8.500000</td>\n",
              "      <td>39.000000</td>\n",
              "      <td>13.000000</td>\n",
              "      <td>19.000000</td>\n",
              "      <td>70.000000</td>\n",
              "      <td>52.000000</td>\n",
              "      <td>1017.600000</td>\n",
              "      <td>1015.200000</td>\n",
              "      <td>5.000000</td>\n",
              "      <td>5.000000</td>\n",
              "      <td>16.700000</td>\n",
              "      <td>21.100000</td>\n",
              "      <td>0.000000</td>\n",
              "    </tr>\n",
              "    <tr>\n",
              "      <th>75%</th>\n",
              "      <td>16.800000</td>\n",
              "      <td>28.200000</td>\n",
              "      <td>0.800000</td>\n",
              "      <td>7.400000</td>\n",
              "      <td>10.600000</td>\n",
              "      <td>48.000000</td>\n",
              "      <td>19.000000</td>\n",
              "      <td>24.000000</td>\n",
              "      <td>83.000000</td>\n",
              "      <td>66.000000</td>\n",
              "      <td>1022.400000</td>\n",
              "      <td>1020.000000</td>\n",
              "      <td>7.000000</td>\n",
              "      <td>7.000000</td>\n",
              "      <td>21.600000</td>\n",
              "      <td>26.400000</td>\n",
              "      <td>0.800000</td>\n",
              "    </tr>\n",
              "    <tr>\n",
              "      <th>max</th>\n",
              "      <td>33.900000</td>\n",
              "      <td>48.100000</td>\n",
              "      <td>371.000000</td>\n",
              "      <td>145.000000</td>\n",
              "      <td>14.500000</td>\n",
              "      <td>135.000000</td>\n",
              "      <td>130.000000</td>\n",
              "      <td>87.000000</td>\n",
              "      <td>100.000000</td>\n",
              "      <td>100.000000</td>\n",
              "      <td>1041.000000</td>\n",
              "      <td>1039.600000</td>\n",
              "      <td>9.000000</td>\n",
              "      <td>9.000000</td>\n",
              "      <td>40.200000</td>\n",
              "      <td>46.700000</td>\n",
              "      <td>371.000000</td>\n",
              "    </tr>\n",
              "  </tbody>\n",
              "</table>\n",
              "</div>"
            ],
            "text/plain": [
              "             mintemp        maxtemp       rainfall   evaporation  \\\n",
              "count  141556.000000  141871.000000  140787.000000  81350.000000   \n",
              "mean       12.186400      23.226784       2.349974      5.469824   \n",
              "std         6.403283       7.117618       8.465173      4.188537   \n",
              "min        -8.500000      -4.800000       0.000000      0.000000   \n",
              "25%         7.600000      17.900000       0.000000      2.600000   \n",
              "50%        12.000000      22.600000       0.000000      4.800000   \n",
              "75%        16.800000      28.200000       0.800000      7.400000   \n",
              "max        33.900000      48.100000     371.000000    145.000000   \n",
              "\n",
              "           sunshine  windgustspeed   windspeed9am   windspeed3pm  \\\n",
              "count  74377.000000  132923.000000  140845.000000  139563.000000   \n",
              "mean       7.624853      39.984292      14.001988      18.637576   \n",
              "std        3.781525      13.588801       8.893337       8.803345   \n",
              "min        0.000000       6.000000       0.000000       0.000000   \n",
              "25%        4.900000      31.000000       7.000000      13.000000   \n",
              "50%        8.500000      39.000000      13.000000      19.000000   \n",
              "75%       10.600000      48.000000      19.000000      24.000000   \n",
              "max       14.500000     135.000000     130.000000      87.000000   \n",
              "\n",
              "         humidity9am    humidity3pm    pressure9am    pressure3pm  \\\n",
              "count  140419.000000  138583.000000  128179.000000  128212.000000   \n",
              "mean       68.843810      51.482606    1017.653758    1015.258204   \n",
              "std        19.051293      20.797772       7.105476       7.036677   \n",
              "min         0.000000       0.000000     980.500000     977.100000   \n",
              "25%        57.000000      37.000000    1012.900000    1010.400000   \n",
              "50%        70.000000      52.000000    1017.600000    1015.200000   \n",
              "75%        83.000000      66.000000    1022.400000    1020.000000   \n",
              "max       100.000000     100.000000    1041.000000    1039.600000   \n",
              "\n",
              "           cloud9am      cloud3pm        temp9am        temp3pm        risk_mm  \n",
              "count  88536.000000  85099.000000  141289.000000  139467.000000  142193.000000  \n",
              "mean       4.437189      4.503167      16.987509      21.687235       2.360682  \n",
              "std        2.887016      2.720633       6.492838       6.937594       8.477969  \n",
              "min        0.000000      0.000000      -7.200000      -5.400000       0.000000  \n",
              "25%        1.000000      2.000000      12.300000      16.600000       0.000000  \n",
              "50%        5.000000      5.000000      16.700000      21.100000       0.000000  \n",
              "75%        7.000000      7.000000      21.600000      26.400000       0.800000  \n",
              "max        9.000000      9.000000      40.200000      46.700000     371.000000  "
            ]
          },
          "execution_count": 6,
          "metadata": {},
          "output_type": "execute_result"
        }
      ],
      "source": [
        "df_weather.describe()"
      ]
    },
    {
      "cell_type": "markdown",
      "metadata": {
        "id": "Vo8hkaG3pgow"
      },
      "source": [
        "# Preguntas\n",
        "\n",
        "### 1.- Conocer la variación de temperatura maxima de cada mes de un año seleccionado, respecto a cada una de las ciudades\n",
        "\n",
        "### 2.- Conocer el promedio de lluvia en un año en cada ciudad \n",
        "\n",
        "### 3.- Conocer el promeido de rafaga de viento respecto al nivel de lluvia\n",
        "\n",
        "### 4.- Conocer la o las ciudades que presenten nivel de humedad de las 3 pm superior al promedio"
      ]
    },
    {
      "cell_type": "markdown",
      "metadata": {
        "id": "TwEBZfTV3vTp"
      },
      "source": [
        "# Pregunta 1"
      ]
    },
    {
      "cell_type": "markdown",
      "metadata": {
        "id": "qRu6MpLhpgoy"
      },
      "source": [
        "##### 1.- Conocer la variación de temperatura maxima de cada mes de un año seleccionado, respecto a cada una de las ciudades"
      ]
    },
    {
      "cell_type": "markdown",
      "metadata": {
        "id": "EunttcOl314U"
      },
      "source": [
        "## Limpieza y transformación de la/las columnas involucradas en la pregunta"
      ]
    },
    {
      "cell_type": "markdown",
      "metadata": {},
      "source": [
        "##### Columnas : \"date\", \"location\", \"maxtemp\""
      ]
    },
    {
      "cell_type": "code",
      "execution_count": 7,
      "metadata": {
        "id": "z4G3XXzcpgoz",
        "outputId": "4028639d-f25c-4aad-fd76-70fe650f4b6f"
      },
      "outputs": [
        {
          "data": {
            "text/html": [
              "<div>\n",
              "<style scoped>\n",
              "    .dataframe tbody tr th:only-of-type {\n",
              "        vertical-align: middle;\n",
              "    }\n",
              "\n",
              "    .dataframe tbody tr th {\n",
              "        vertical-align: top;\n",
              "    }\n",
              "\n",
              "    .dataframe thead th {\n",
              "        text-align: right;\n",
              "    }\n",
              "</style>\n",
              "<table border=\"1\" class=\"dataframe\">\n",
              "  <thead>\n",
              "    <tr style=\"text-align: right;\">\n",
              "      <th></th>\n",
              "      <th>location</th>\n",
              "      <th>mintemp</th>\n",
              "      <th>maxtemp</th>\n",
              "      <th>rainfall</th>\n",
              "      <th>evaporation</th>\n",
              "      <th>sunshine</th>\n",
              "      <th>windgustdir</th>\n",
              "      <th>windgustspeed</th>\n",
              "      <th>winddir9am</th>\n",
              "      <th>winddir3pm</th>\n",
              "      <th>...</th>\n",
              "      <th>humidity3pm</th>\n",
              "      <th>pressure9am</th>\n",
              "      <th>pressure3pm</th>\n",
              "      <th>cloud9am</th>\n",
              "      <th>cloud3pm</th>\n",
              "      <th>temp9am</th>\n",
              "      <th>temp3pm</th>\n",
              "      <th>raintoday</th>\n",
              "      <th>risk_mm</th>\n",
              "      <th>raintomorrow</th>\n",
              "    </tr>\n",
              "    <tr>\n",
              "      <th>date</th>\n",
              "      <th></th>\n",
              "      <th></th>\n",
              "      <th></th>\n",
              "      <th></th>\n",
              "      <th></th>\n",
              "      <th></th>\n",
              "      <th></th>\n",
              "      <th></th>\n",
              "      <th></th>\n",
              "      <th></th>\n",
              "      <th></th>\n",
              "      <th></th>\n",
              "      <th></th>\n",
              "      <th></th>\n",
              "      <th></th>\n",
              "      <th></th>\n",
              "      <th></th>\n",
              "      <th></th>\n",
              "      <th></th>\n",
              "      <th></th>\n",
              "      <th></th>\n",
              "    </tr>\n",
              "  </thead>\n",
              "  <tbody>\n",
              "    <tr>\n",
              "      <th>2008-12-01</th>\n",
              "      <td>Albury</td>\n",
              "      <td>13.4</td>\n",
              "      <td>22.9</td>\n",
              "      <td>0.6</td>\n",
              "      <td>NaN</td>\n",
              "      <td>NaN</td>\n",
              "      <td>W</td>\n",
              "      <td>44.0</td>\n",
              "      <td>W</td>\n",
              "      <td>WNW</td>\n",
              "      <td>...</td>\n",
              "      <td>22.0</td>\n",
              "      <td>1007.7</td>\n",
              "      <td>1007.1</td>\n",
              "      <td>8.0</td>\n",
              "      <td>NaN</td>\n",
              "      <td>16.9</td>\n",
              "      <td>21.8</td>\n",
              "      <td>No</td>\n",
              "      <td>0.0</td>\n",
              "      <td>No</td>\n",
              "    </tr>\n",
              "    <tr>\n",
              "      <th>2008-12-02</th>\n",
              "      <td>Albury</td>\n",
              "      <td>7.4</td>\n",
              "      <td>25.1</td>\n",
              "      <td>0.0</td>\n",
              "      <td>NaN</td>\n",
              "      <td>NaN</td>\n",
              "      <td>WNW</td>\n",
              "      <td>44.0</td>\n",
              "      <td>NNW</td>\n",
              "      <td>WSW</td>\n",
              "      <td>...</td>\n",
              "      <td>25.0</td>\n",
              "      <td>1010.6</td>\n",
              "      <td>1007.8</td>\n",
              "      <td>NaN</td>\n",
              "      <td>NaN</td>\n",
              "      <td>17.2</td>\n",
              "      <td>24.3</td>\n",
              "      <td>No</td>\n",
              "      <td>0.0</td>\n",
              "      <td>No</td>\n",
              "    </tr>\n",
              "    <tr>\n",
              "      <th>2008-12-03</th>\n",
              "      <td>Albury</td>\n",
              "      <td>12.9</td>\n",
              "      <td>25.7</td>\n",
              "      <td>0.0</td>\n",
              "      <td>NaN</td>\n",
              "      <td>NaN</td>\n",
              "      <td>WSW</td>\n",
              "      <td>46.0</td>\n",
              "      <td>W</td>\n",
              "      <td>WSW</td>\n",
              "      <td>...</td>\n",
              "      <td>30.0</td>\n",
              "      <td>1007.6</td>\n",
              "      <td>1008.7</td>\n",
              "      <td>NaN</td>\n",
              "      <td>2.0</td>\n",
              "      <td>21.0</td>\n",
              "      <td>23.2</td>\n",
              "      <td>No</td>\n",
              "      <td>0.0</td>\n",
              "      <td>No</td>\n",
              "    </tr>\n",
              "    <tr>\n",
              "      <th>2008-12-04</th>\n",
              "      <td>Albury</td>\n",
              "      <td>9.2</td>\n",
              "      <td>28.0</td>\n",
              "      <td>0.0</td>\n",
              "      <td>NaN</td>\n",
              "      <td>NaN</td>\n",
              "      <td>NE</td>\n",
              "      <td>24.0</td>\n",
              "      <td>SE</td>\n",
              "      <td>E</td>\n",
              "      <td>...</td>\n",
              "      <td>16.0</td>\n",
              "      <td>1017.6</td>\n",
              "      <td>1012.8</td>\n",
              "      <td>NaN</td>\n",
              "      <td>NaN</td>\n",
              "      <td>18.1</td>\n",
              "      <td>26.5</td>\n",
              "      <td>No</td>\n",
              "      <td>1.0</td>\n",
              "      <td>No</td>\n",
              "    </tr>\n",
              "    <tr>\n",
              "      <th>2008-12-05</th>\n",
              "      <td>Albury</td>\n",
              "      <td>17.5</td>\n",
              "      <td>32.3</td>\n",
              "      <td>1.0</td>\n",
              "      <td>NaN</td>\n",
              "      <td>NaN</td>\n",
              "      <td>W</td>\n",
              "      <td>41.0</td>\n",
              "      <td>ENE</td>\n",
              "      <td>NW</td>\n",
              "      <td>...</td>\n",
              "      <td>33.0</td>\n",
              "      <td>1010.8</td>\n",
              "      <td>1006.0</td>\n",
              "      <td>7.0</td>\n",
              "      <td>8.0</td>\n",
              "      <td>17.8</td>\n",
              "      <td>29.7</td>\n",
              "      <td>No</td>\n",
              "      <td>0.2</td>\n",
              "      <td>No</td>\n",
              "    </tr>\n",
              "  </tbody>\n",
              "</table>\n",
              "<p>5 rows × 23 columns</p>\n",
              "</div>"
            ],
            "text/plain": [
              "           location  mintemp  maxtemp  rainfall  evaporation  sunshine  \\\n",
              "date                                                                     \n",
              "2008-12-01   Albury     13.4     22.9       0.6          NaN       NaN   \n",
              "2008-12-02   Albury      7.4     25.1       0.0          NaN       NaN   \n",
              "2008-12-03   Albury     12.9     25.7       0.0          NaN       NaN   \n",
              "2008-12-04   Albury      9.2     28.0       0.0          NaN       NaN   \n",
              "2008-12-05   Albury     17.5     32.3       1.0          NaN       NaN   \n",
              "\n",
              "           windgustdir  windgustspeed winddir9am winddir3pm  ...  humidity3pm  \\\n",
              "date                                                         ...                \n",
              "2008-12-01           W           44.0          W        WNW  ...         22.0   \n",
              "2008-12-02         WNW           44.0        NNW        WSW  ...         25.0   \n",
              "2008-12-03         WSW           46.0          W        WSW  ...         30.0   \n",
              "2008-12-04          NE           24.0         SE          E  ...         16.0   \n",
              "2008-12-05           W           41.0        ENE         NW  ...         33.0   \n",
              "\n",
              "            pressure9am  pressure3pm  cloud9am  cloud3pm  temp9am  temp3pm  \\\n",
              "date                                                                         \n",
              "2008-12-01       1007.7       1007.1       8.0       NaN     16.9     21.8   \n",
              "2008-12-02       1010.6       1007.8       NaN       NaN     17.2     24.3   \n",
              "2008-12-03       1007.6       1008.7       NaN       2.0     21.0     23.2   \n",
              "2008-12-04       1017.6       1012.8       NaN       NaN     18.1     26.5   \n",
              "2008-12-05       1010.8       1006.0       7.0       8.0     17.8     29.7   \n",
              "\n",
              "            raintoday  risk_mm  raintomorrow  \n",
              "date                                          \n",
              "2008-12-01         No      0.0            No  \n",
              "2008-12-02         No      0.0            No  \n",
              "2008-12-03         No      0.0            No  \n",
              "2008-12-04         No      1.0            No  \n",
              "2008-12-05         No      0.2            No  \n",
              "\n",
              "[5 rows x 23 columns]"
            ]
          },
          "execution_count": 7,
          "metadata": {},
          "output_type": "execute_result"
        }
      ],
      "source": [
        "df_weather['date'] = pd.to_datetime(df_weather['date'])\n",
        "df_weather2 = df_weather.set_index('date')\n",
        "df_weather2.head()"
      ]
    },
    {
      "cell_type": "code",
      "execution_count": 79,
      "metadata": {},
      "outputs": [
        {
          "name": "stdout",
          "output_type": "stream",
          "text": [
            "La columna location presenta una cantidad de 49 valores unicos\n"
          ]
        }
      ],
      "source": [
        "print(\"La columna location presenta una cantidad de {0} valores unicos\".format(df_weather2['location'].nunique()))"
      ]
    },
    {
      "cell_type": "markdown",
      "metadata": {},
      "source": [
        "+ Dado que la columna Location presenta 49 valores unicos, se toma la desición de realizar la transformación de la columna con LabelEncoder(). Esto es porque al usar OneHotEncoder() se crearán las columnas respectivas para cada uno de los valores unicos presentes en location"
      ]
    },
    {
      "cell_type": "code",
      "execution_count": 77,
      "metadata": {},
      "outputs": [
        {
          "data": {
            "text/plain": [
              "date\n",
              "2008-12-01    Albury\n",
              "2008-12-02    Albury\n",
              "2008-12-03    Albury\n",
              "2008-12-04    Albury\n",
              "2008-12-05    Albury\n",
              "               ...  \n",
              "2017-06-20     Uluru\n",
              "2017-06-21     Uluru\n",
              "2017-06-22     Uluru\n",
              "2017-06-23     Uluru\n",
              "2017-06-24     Uluru\n",
              "Name: location, Length: 142193, dtype: object"
            ]
          },
          "execution_count": 77,
          "metadata": {},
          "output_type": "execute_result"
        }
      ],
      "source": [
        "encoder = LabelEncoder()\n",
        "variable = df_weather2['location']\n",
        "variable"
      ]
    },
    {
      "cell_type": "code",
      "execution_count": 72,
      "metadata": {},
      "outputs": [
        {
          "data": {
            "text/plain": [
              "array([ 2,  2,  2, ..., 41, 41, 41])"
            ]
          },
          "execution_count": 72,
          "metadata": {},
          "output_type": "execute_result"
        }
      ],
      "source": [
        "variable_transformada = encoder.fit_transform(variable)\n",
        "variable_transformada"
      ]
    },
    {
      "cell_type": "code",
      "execution_count": 78,
      "metadata": {},
      "outputs": [
        {
          "data": {
            "text/html": [
              "<div>\n",
              "<style scoped>\n",
              "    .dataframe tbody tr th:only-of-type {\n",
              "        vertical-align: middle;\n",
              "    }\n",
              "\n",
              "    .dataframe tbody tr th {\n",
              "        vertical-align: top;\n",
              "    }\n",
              "\n",
              "    .dataframe thead th {\n",
              "        text-align: right;\n",
              "    }\n",
              "</style>\n",
              "<table border=\"1\" class=\"dataframe\">\n",
              "  <thead>\n",
              "    <tr style=\"text-align: right;\">\n",
              "      <th></th>\n",
              "      <th>location</th>\n",
              "      <th>location_transformada</th>\n",
              "      <th>mintemp</th>\n",
              "      <th>maxtemp</th>\n",
              "      <th>rainfall</th>\n",
              "      <th>evaporation</th>\n",
              "      <th>sunshine</th>\n",
              "      <th>windgustdir</th>\n",
              "      <th>windgustspeed</th>\n",
              "      <th>winddir9am</th>\n",
              "      <th>...</th>\n",
              "      <th>humidity3pm</th>\n",
              "      <th>pressure9am</th>\n",
              "      <th>pressure3pm</th>\n",
              "      <th>cloud9am</th>\n",
              "      <th>cloud3pm</th>\n",
              "      <th>temp9am</th>\n",
              "      <th>temp3pm</th>\n",
              "      <th>raintoday</th>\n",
              "      <th>risk_mm</th>\n",
              "      <th>raintomorrow</th>\n",
              "    </tr>\n",
              "    <tr>\n",
              "      <th>date</th>\n",
              "      <th></th>\n",
              "      <th></th>\n",
              "      <th></th>\n",
              "      <th></th>\n",
              "      <th></th>\n",
              "      <th></th>\n",
              "      <th></th>\n",
              "      <th></th>\n",
              "      <th></th>\n",
              "      <th></th>\n",
              "      <th></th>\n",
              "      <th></th>\n",
              "      <th></th>\n",
              "      <th></th>\n",
              "      <th></th>\n",
              "      <th></th>\n",
              "      <th></th>\n",
              "      <th></th>\n",
              "      <th></th>\n",
              "      <th></th>\n",
              "      <th></th>\n",
              "    </tr>\n",
              "  </thead>\n",
              "  <tbody>\n",
              "    <tr>\n",
              "      <th>2008-12-01</th>\n",
              "      <td>Albury</td>\n",
              "      <td>2</td>\n",
              "      <td>13.4</td>\n",
              "      <td>22.9</td>\n",
              "      <td>0.6</td>\n",
              "      <td>NaN</td>\n",
              "      <td>NaN</td>\n",
              "      <td>W</td>\n",
              "      <td>44.0</td>\n",
              "      <td>W</td>\n",
              "      <td>...</td>\n",
              "      <td>22.0</td>\n",
              "      <td>1007.7</td>\n",
              "      <td>1007.1</td>\n",
              "      <td>8.0</td>\n",
              "      <td>NaN</td>\n",
              "      <td>16.9</td>\n",
              "      <td>21.8</td>\n",
              "      <td>No</td>\n",
              "      <td>0.0</td>\n",
              "      <td>No</td>\n",
              "    </tr>\n",
              "    <tr>\n",
              "      <th>2008-12-02</th>\n",
              "      <td>Albury</td>\n",
              "      <td>2</td>\n",
              "      <td>7.4</td>\n",
              "      <td>25.1</td>\n",
              "      <td>0.0</td>\n",
              "      <td>NaN</td>\n",
              "      <td>NaN</td>\n",
              "      <td>WNW</td>\n",
              "      <td>44.0</td>\n",
              "      <td>NNW</td>\n",
              "      <td>...</td>\n",
              "      <td>25.0</td>\n",
              "      <td>1010.6</td>\n",
              "      <td>1007.8</td>\n",
              "      <td>NaN</td>\n",
              "      <td>NaN</td>\n",
              "      <td>17.2</td>\n",
              "      <td>24.3</td>\n",
              "      <td>No</td>\n",
              "      <td>0.0</td>\n",
              "      <td>No</td>\n",
              "    </tr>\n",
              "    <tr>\n",
              "      <th>2008-12-03</th>\n",
              "      <td>Albury</td>\n",
              "      <td>2</td>\n",
              "      <td>12.9</td>\n",
              "      <td>25.7</td>\n",
              "      <td>0.0</td>\n",
              "      <td>NaN</td>\n",
              "      <td>NaN</td>\n",
              "      <td>WSW</td>\n",
              "      <td>46.0</td>\n",
              "      <td>W</td>\n",
              "      <td>...</td>\n",
              "      <td>30.0</td>\n",
              "      <td>1007.6</td>\n",
              "      <td>1008.7</td>\n",
              "      <td>NaN</td>\n",
              "      <td>2.0</td>\n",
              "      <td>21.0</td>\n",
              "      <td>23.2</td>\n",
              "      <td>No</td>\n",
              "      <td>0.0</td>\n",
              "      <td>No</td>\n",
              "    </tr>\n",
              "    <tr>\n",
              "      <th>2008-12-04</th>\n",
              "      <td>Albury</td>\n",
              "      <td>2</td>\n",
              "      <td>9.2</td>\n",
              "      <td>28.0</td>\n",
              "      <td>0.0</td>\n",
              "      <td>NaN</td>\n",
              "      <td>NaN</td>\n",
              "      <td>NE</td>\n",
              "      <td>24.0</td>\n",
              "      <td>SE</td>\n",
              "      <td>...</td>\n",
              "      <td>16.0</td>\n",
              "      <td>1017.6</td>\n",
              "      <td>1012.8</td>\n",
              "      <td>NaN</td>\n",
              "      <td>NaN</td>\n",
              "      <td>18.1</td>\n",
              "      <td>26.5</td>\n",
              "      <td>No</td>\n",
              "      <td>1.0</td>\n",
              "      <td>No</td>\n",
              "    </tr>\n",
              "    <tr>\n",
              "      <th>2008-12-05</th>\n",
              "      <td>Albury</td>\n",
              "      <td>2</td>\n",
              "      <td>17.5</td>\n",
              "      <td>32.3</td>\n",
              "      <td>1.0</td>\n",
              "      <td>NaN</td>\n",
              "      <td>NaN</td>\n",
              "      <td>W</td>\n",
              "      <td>41.0</td>\n",
              "      <td>ENE</td>\n",
              "      <td>...</td>\n",
              "      <td>33.0</td>\n",
              "      <td>1010.8</td>\n",
              "      <td>1006.0</td>\n",
              "      <td>7.0</td>\n",
              "      <td>8.0</td>\n",
              "      <td>17.8</td>\n",
              "      <td>29.7</td>\n",
              "      <td>No</td>\n",
              "      <td>0.2</td>\n",
              "      <td>No</td>\n",
              "    </tr>\n",
              "  </tbody>\n",
              "</table>\n",
              "<p>5 rows × 24 columns</p>\n",
              "</div>"
            ],
            "text/plain": [
              "           location  location_transformada  mintemp  maxtemp  rainfall  \\\n",
              "date                                                                     \n",
              "2008-12-01   Albury                      2     13.4     22.9       0.6   \n",
              "2008-12-02   Albury                      2      7.4     25.1       0.0   \n",
              "2008-12-03   Albury                      2     12.9     25.7       0.0   \n",
              "2008-12-04   Albury                      2      9.2     28.0       0.0   \n",
              "2008-12-05   Albury                      2     17.5     32.3       1.0   \n",
              "\n",
              "            evaporation  sunshine windgustdir  windgustspeed winddir9am  ...  \\\n",
              "date                                                                     ...   \n",
              "2008-12-01          NaN       NaN           W           44.0          W  ...   \n",
              "2008-12-02          NaN       NaN         WNW           44.0        NNW  ...   \n",
              "2008-12-03          NaN       NaN         WSW           46.0          W  ...   \n",
              "2008-12-04          NaN       NaN          NE           24.0         SE  ...   \n",
              "2008-12-05          NaN       NaN           W           41.0        ENE  ...   \n",
              "\n",
              "           humidity3pm  pressure9am  pressure3pm  cloud9am  cloud3pm  temp9am  \\\n",
              "date                                                                            \n",
              "2008-12-01        22.0       1007.7       1007.1       8.0       NaN     16.9   \n",
              "2008-12-02        25.0       1010.6       1007.8       NaN       NaN     17.2   \n",
              "2008-12-03        30.0       1007.6       1008.7       NaN       2.0     21.0   \n",
              "2008-12-04        16.0       1017.6       1012.8       NaN       NaN     18.1   \n",
              "2008-12-05        33.0       1010.8       1006.0       7.0       8.0     17.8   \n",
              "\n",
              "            temp3pm  raintoday  risk_mm  raintomorrow  \n",
              "date                                                   \n",
              "2008-12-01     21.8         No      0.0            No  \n",
              "2008-12-02     24.3         No      0.0            No  \n",
              "2008-12-03     23.2         No      0.0            No  \n",
              "2008-12-04     26.5         No      1.0            No  \n",
              "2008-12-05     29.7         No      0.2            No  \n",
              "\n",
              "[5 rows x 24 columns]"
            ]
          },
          "execution_count": 78,
          "metadata": {},
          "output_type": "execute_result"
        }
      ],
      "source": [
        "df_transformada = df_weather2.copy()\n",
        "df_transformada.insert(1, 'location_transformada', variable_transformada)\n",
        "df_transformada.head()"
      ]
    },
    {
      "cell_type": "code",
      "execution_count": 9,
      "metadata": {
        "id": "UvffhQLp39hW",
        "outputId": "89821c00-f177-4717-cc93-5157adc2caff"
      },
      "outputs": [
        {
          "name": "stdout",
          "output_type": "stream",
          "text": [
            "La columna maxtemp presenta 322 valores nulos\n",
            "La columna location presenta 0 valores nulos\n",
            "La columna date presenta 0 valores nulos\n"
          ]
        }
      ],
      "source": [
        "print(\"La columna maxtemp presenta {0} valores nulos\".format(df_weather.maxtemp.isnull().sum()))\n",
        "print(\"La columna location presenta {0} valores nulos\".format(df_weather.location.isnull().sum()))\n",
        "print(\"La columna date presenta {0} valores nulos\".format(df_weather.index.isnull().sum()))"
      ]
    },
    {
      "cell_type": "code",
      "execution_count": 10,
      "metadata": {
        "id": "koEuriYbpgo0",
        "outputId": "a1216e53-e6a4-4a20-efae-3b2015ba4216"
      },
      "outputs": [
        {
          "data": {
            "image/png": "[encoded data removed]",
            "text/plain": [
              "<Figure size 720x720 with 1 Axes>"
            ]
          },
          "metadata": {
            "needs_background": "light"
          },
          "output_type": "display_data"
        }
      ],
      "source": [
        "plt.figure(figsize=(10,10))\n",
        "sns.boxplot(y=df_weather2.maxtemp, data=df_weather)\n",
        "plt.xlabel('Maxima Temperatura')\n",
        "plt.ylabel('Valores')\n",
        "plt.yticks(range(0,55,5));\n",
        "plt.title(r'Outliers de MaxTemp');"
      ]
    },
    {
      "cell_type": "markdown",
      "metadata": {
        "id": "kScwkn95pgo0"
      },
      "source": [
        "+ De acuerdo con el gracifo, este muestra que la columna \"MaxTemp\" presenta valores atipicos, es por esto que la limpieza de los datos nulos se hizo de acuerdo a la Moda de la columna"
      ]
    },
    {
      "cell_type": "code",
      "execution_count": 11,
      "metadata": {
        "id": "QR9nvNVQpgo0",
        "outputId": "3bc039cd-1c87-4b4b-a9d0-d5114495a759"
      },
      "outputs": [
        {
          "name": "stdout",
          "output_type": "stream",
          "text": [
            "Valores nulos de la columna maxtemp :  0\n"
          ]
        }
      ],
      "source": [
        "moda = df_weather2.maxtemp.mode()[0]\n",
        "df_weather2.maxtemp = df_weather2.maxtemp.fillna(moda)\n",
        "print(\"Valores nulos de la columna maxtemp :  {0}\".format(df_weather2.maxtemp.isnull().sum()))"
      ]
    },
    {
      "cell_type": "markdown",
      "metadata": {
        "id": "T0mE2pZ14YGj"
      },
      "source": [
        "## Análisis exploratorio de la/las columna/as involucradas en la pregunta"
      ]
    },
    {
      "cell_type": "markdown",
      "metadata": {
        "id": "TxmDKEhA5LSx"
      },
      "source": [
        "### Cálculo e interpretación de las medidas básicas de acuerdo con el tipo de variable"
      ]
    },
    {
      "cell_type": "code",
      "execution_count": 12,
      "metadata": {
        "id": "1PXhJzbM4f2O",
        "outputId": "39152755-ff8f-426d-e1b2-8b7241fb3554"
      },
      "outputs": [
        {
          "data": {
            "text/plain": [
              "count    142193.000000\n",
              "mean         23.219477\n",
              "std           7.111209\n",
              "min          -4.800000\n",
              "25%          17.900000\n",
              "50%          22.600000\n",
              "75%          28.200000\n",
              "max          48.100000\n",
              "Name: maxtemp, dtype: float64"
            ]
          },
          "execution_count": 12,
          "metadata": {},
          "output_type": "execute_result"
        }
      ],
      "source": [
        "df_weather2['maxtemp'].describe()"
      ]
    },
    {
      "cell_type": "markdown",
      "metadata": {
        "id": "YtVxQNLRpgo2"
      },
      "source": [
        "+ El promedio de temperatura maxima entre las ciudades es de 23°C\n",
        "+ El 75% de las ciudades presenta una temperatura maxima igual o inferior a 28°C\n",
        "+ El 25% de las ciudades presenta una temperatura maxima igual o inferior a 18°C\n",
        "+ Aproximadamente el 66% de las ciudades presenta una temperatura maxima entre 16°C y 30°C"
      ]
    },
    {
      "cell_type": "code",
      "execution_count": 13,
      "metadata": {
        "id": "6m-27on9pgo2",
        "outputId": "81aaee73-3e2a-4798-b8d4-126a80cfe7b2"
      },
      "outputs": [
        {
          "name": "stdout",
          "output_type": "stream",
          "text": [
            "Extremo inferior 8.997109479909419 - Extremo superior : 37.44184461769048\n",
            "96.2178166295106\n"
          ]
        }
      ],
      "source": [
        "mean, std = np.mean(df_weather2.maxtemp), np.std(df_weather2.maxtemp)\n",
        "lim_inf, lim_sup = mean - 2*std, mean + 2*std\n",
        "print(\"Extremo inferior {0} - Extremo superior : {1}\".format(lim_inf, lim_sup))\n",
        "analizados = df_weather2.query(\"maxtemp >= {0} & maxtemp <= {1}\".format(lim_inf, lim_sup))['maxtemp'].count()\n",
        "total = df_weather2.shape[0]\n",
        "print(analizados/total*100)"
      ]
    },
    {
      "cell_type": "markdown",
      "metadata": {
        "id": "zfC6a3t9pgo2"
      },
      "source": [
        "+ El 96% de los datos tiene una temperatura maxima entre 9°C y 37°C"
      ]
    },
    {
      "cell_type": "markdown",
      "metadata": {
        "id": "K1dnQsk_pgo2"
      },
      "source": [
        "##### Comprobar medidas"
      ]
    },
    {
      "cell_type": "code",
      "execution_count": 14,
      "metadata": {
        "id": "7vSfX5M7pgo3",
        "outputId": "f58ee4a5-f4d7-4106-ecde-a70ed4211183"
      },
      "outputs": [
        {
          "name": "stdout",
          "output_type": "stream",
          "text": [
            "Moda 20.0 - Mediana 22.6 - Media 23.21947704879995\n"
          ]
        }
      ],
      "source": [
        "moda = df_weather2.maxtemp.mode()[0]\n",
        "mediana = df_weather2.maxtemp.median()\n",
        "media = df_weather2.maxtemp.mean()\n",
        "print(\"Moda {0} - Mediana {1} - Media {2}\".format(moda, mediana, media))"
      ]
    },
    {
      "cell_type": "code",
      "execution_count": 15,
      "metadata": {
        "id": "zh5bbZpypgo3",
        "outputId": "f6b988aa-aab7-47aa-d5c5-cecbe3c9c369"
      },
      "outputs": [
        {
          "name": "stdout",
          "output_type": "stream",
          "text": [
            "Intervalo = [16.108293264354685;30.33066083324521]\n",
            "65.86400174410836\n"
          ]
        }
      ],
      "source": [
        "mean, std = np.mean(df_weather2.maxtemp), np.std(df_weather2.maxtemp)\n",
        "lim_inf, lim_sup = mean - std, mean + std\n",
        "print(\"Intervalo = [{0};{1}]\".format(lim_inf, lim_sup))\n",
        "analizados = df_weather2.query(\"maxtemp >= {0} & maxtemp <= {1}\".format(lim_inf, lim_sup))['maxtemp'].count()\n",
        "total = df_weather2.shape[0]\n",
        "print(analizados/total*100)"
      ]
    },
    {
      "cell_type": "code",
      "execution_count": 16,
      "metadata": {
        "id": "YUfpMYbapgo3",
        "outputId": "a76bb775-fb88-4cee-f8bd-b3789fc0a757"
      },
      "outputs": [
        {
          "name": "stdout",
          "output_type": "stream",
          "text": [
            "28.2\n",
            "75.1014466253613\n"
          ]
        }
      ],
      "source": [
        "cuartil_tres = np.quantile(df_weather2.maxtemp, 0.75)\n",
        "print(cuartil_tres)\n",
        "analizados = df_weather2.query(\"maxtemp <= {}\".format(cuartil_tres))['maxtemp'].count()\n",
        "total = df_weather2.shape[0]\n",
        "print(analizados/total*100)"
      ]
    },
    {
      "cell_type": "code",
      "execution_count": 17,
      "metadata": {
        "id": "vCiErdUZpgo3",
        "outputId": "35f77e4f-8c2b-4f2b-c927-9b0d37021644"
      },
      "outputs": [
        {
          "name": "stdout",
          "output_type": "stream",
          "text": [
            "17.9\n",
            "25.023032076121893\n"
          ]
        }
      ],
      "source": [
        "cuartil_uno = np.quantile(df_weather2.maxtemp, 0.25)\n",
        "print(cuartil_uno)\n",
        "analizados = df_weather2.query(\"maxtemp <= {}\".format(cuartil_uno))['maxtemp'].count()\n",
        "total = df_weather2.shape[0]\n",
        "print(analizados/total*100)"
      ]
    },
    {
      "cell_type": "markdown",
      "metadata": {
        "id": "Bj2umHum4KEp"
      },
      "source": [
        "## Respuesta, vía código, a la pregunta"
      ]
    },
    {
      "cell_type": "code",
      "execution_count": 18,
      "metadata": {
        "id": "JXbX1EO64QA_",
        "outputId": "473ad994-1d69-42d2-bb4a-1fa5b3888daf"
      },
      "outputs": [
        {
          "data": {
            "text/html": [
              "<div>\n",
              "<style scoped>\n",
              "    .dataframe tbody tr th:only-of-type {\n",
              "        vertical-align: middle;\n",
              "    }\n",
              "\n",
              "    .dataframe tbody tr th {\n",
              "        vertical-align: top;\n",
              "    }\n",
              "\n",
              "    .dataframe thead th {\n",
              "        text-align: right;\n",
              "    }\n",
              "</style>\n",
              "<table border=\"1\" class=\"dataframe\">\n",
              "  <thead>\n",
              "    <tr style=\"text-align: right;\">\n",
              "      <th></th>\n",
              "      <th>temperatura_maxima</th>\n",
              "      <th>temperatura_maxima_anterior</th>\n",
              "    </tr>\n",
              "    <tr>\n",
              "      <th>date</th>\n",
              "      <th></th>\n",
              "      <th></th>\n",
              "    </tr>\n",
              "  </thead>\n",
              "  <tbody>\n",
              "    <tr>\n",
              "      <th>1</th>\n",
              "      <td>40.6</td>\n",
              "      <td>36.6</td>\n",
              "    </tr>\n",
              "    <tr>\n",
              "      <th>2</th>\n",
              "      <td>37.8</td>\n",
              "      <td>33.1</td>\n",
              "    </tr>\n",
              "    <tr>\n",
              "      <th>3</th>\n",
              "      <td>31.7</td>\n",
              "      <td>37.9</td>\n",
              "    </tr>\n",
              "    <tr>\n",
              "      <th>4</th>\n",
              "      <td>34.7</td>\n",
              "      <td>32.6</td>\n",
              "    </tr>\n",
              "    <tr>\n",
              "      <th>5</th>\n",
              "      <td>28.9</td>\n",
              "      <td>28.6</td>\n",
              "    </tr>\n",
              "    <tr>\n",
              "      <th>6</th>\n",
              "      <td>23.1</td>\n",
              "      <td>23.6</td>\n",
              "    </tr>\n",
              "    <tr>\n",
              "      <th>7</th>\n",
              "      <td>27.0</td>\n",
              "      <td>21.6</td>\n",
              "    </tr>\n",
              "    <tr>\n",
              "      <th>8</th>\n",
              "      <td>26.7</td>\n",
              "      <td>28.9</td>\n",
              "    </tr>\n",
              "    <tr>\n",
              "      <th>9</th>\n",
              "      <td>24.9</td>\n",
              "      <td>30.5</td>\n",
              "    </tr>\n",
              "    <tr>\n",
              "      <th>10</th>\n",
              "      <td>34.3</td>\n",
              "      <td>37.5</td>\n",
              "    </tr>\n",
              "    <tr>\n",
              "      <th>11</th>\n",
              "      <td>35.1</td>\n",
              "      <td>42.8</td>\n",
              "    </tr>\n",
              "    <tr>\n",
              "      <th>12</th>\n",
              "      <td>39.2</td>\n",
              "      <td>37.9</td>\n",
              "    </tr>\n",
              "  </tbody>\n",
              "</table>\n",
              "</div>"
            ],
            "text/plain": [
              "      temperatura_maxima  temperatura_maxima_anterior\n",
              "date                                                 \n",
              "1                   40.6                         36.6\n",
              "2                   37.8                         33.1\n",
              "3                   31.7                         37.9\n",
              "4                   34.7                         32.6\n",
              "5                   28.9                         28.6\n",
              "6                   23.1                         23.6\n",
              "7                   27.0                         21.6\n",
              "8                   26.7                         28.9\n",
              "9                   24.9                         30.5\n",
              "10                  34.3                         37.5\n",
              "11                  35.1                         42.8\n",
              "12                  39.2                         37.9"
            ]
          },
          "execution_count": 18,
          "metadata": {},
          "output_type": "execute_result"
        }
      ],
      "source": [
        "def data(df, annio, ciudad, nombreCol):\n",
        "    filtro = df[df.index.year == annio]\n",
        "    filtro_ciudad = filtro[filtro['location'].str.contains(ciudad, case = False)]\n",
        "    data = pd.DataFrame(filtro_ciudad.groupby([filtro_ciudad.index.month])['maxtemp'].max())\n",
        "    data.columns = [nombreCol]\n",
        "    \n",
        "    return data\n",
        "\n",
        "ciudad = \"Sydney\"\n",
        "annio = 2016\n",
        "\n",
        "data_1 = data(df_weather2, annio, ciudad, \"temperatura_maxima\")\n",
        "data_2 = data_1.assign(temperatura_maxima_anterior = data(df_weather2, annio-1, ciudad, \"temperatura_maxima_anterior\"))\n",
        "data_2"
      ]
    },
    {
      "cell_type": "code",
      "execution_count": 19,
      "metadata": {
        "id": "o6q7qKaZpgo4",
        "outputId": "2fb78924-5438-4d11-ab9e-c89c6fad04fa"
      },
      "outputs": [
        {
          "data": {
            "image/png": "[encoded data removed]",
            "text/plain": [
              "<Figure size 1440x720 with 1 Axes>"
            ]
          },
          "metadata": {
            "needs_background": "light"
          },
          "output_type": "display_data"
        }
      ],
      "source": [
        "sns.lineplot(data = data_2)\n",
        "plt.xticks(range(1,13));\n",
        "plt.yticks(range(0,52,2));\n",
        "plt.title(\"Variación de temperatura respecto al año {0} y {1} en {2}\".format(annio, annio-1, ciudad))\n",
        "plt.xlabel(\"Mes\")\n",
        "plt.ylabel(\"Temperatura (°C)\")\n",
        "plt.gcf().set_size_inches(20, 10)"
      ]
    },
    {
      "cell_type": "markdown",
      "metadata": {
        "id": "9Q3jQAYB4BBN"
      },
      "source": [
        "## Información y conocimiento útil obtenido (patrones, tendencias)"
      ]
    },
    {
      "cell_type": "markdown",
      "metadata": {
        "id": "8qgxJcV6pgo4"
      },
      "source": [
        "+ El mes de Mayo del año 2016 presenta la misma temperatura respecto al año anterior\n",
        "+ El mes de Diciembre del año 2016 varia en 2°C en comparación al año anterior"
      ]
    },
    {
      "cell_type": "markdown",
      "metadata": {
        "id": "elD91gCE5Aa9"
      },
      "source": [
        "# Pregunta 2"
      ]
    },
    {
      "cell_type": "markdown",
      "metadata": {
        "id": "aAMuLYVR5wl-"
      },
      "source": [
        "## Limpieza y transformación de la/las columnas involucradas en la pregunta"
      ]
    },
    {
      "cell_type": "markdown",
      "metadata": {
        "id": "fZBzhIIX9XnS"
      },
      "source": [
        "**Variables a utilizar:** Location, Date, Rainfall"
      ]
    },
    {
      "cell_type": "markdown",
      "metadata": {},
      "source": [
        "+ Dado que la columna Location presenta 49 valores unicos, se toma la desición de realizar la transformación de la columna con LabelEncoder(). Esto es porque al usar OneHotEncoder() se crearán las columnas respectivas para cada uno de los valores unicos presentes en location"
      ]
    },
    {
      "cell_type": "code",
      "execution_count": 81,
      "metadata": {},
      "outputs": [
        {
          "data": {
            "text/plain": [
              "array([ 2,  2,  2, ..., 41, 41, 41])"
            ]
          },
          "execution_count": 81,
          "metadata": {},
          "output_type": "execute_result"
        }
      ],
      "source": [
        "#Se usará la misma variable encoder creada en la pregunta anterior\n",
        "variable_pregunta_2 = df_weather2['location']\n",
        "variable_transfor_pregunta_2 = encoder.fit_transform(variable_pregunta_2)\n",
        "variable_transfor_pregunta_2"
      ]
    },
    {
      "cell_type": "code",
      "execution_count": 82,
      "metadata": {},
      "outputs": [
        {
          "data": {
            "text/html": [
              "<div>\n",
              "<style scoped>\n",
              "    .dataframe tbody tr th:only-of-type {\n",
              "        vertical-align: middle;\n",
              "    }\n",
              "\n",
              "    .dataframe tbody tr th {\n",
              "        vertical-align: top;\n",
              "    }\n",
              "\n",
              "    .dataframe thead th {\n",
              "        text-align: right;\n",
              "    }\n",
              "</style>\n",
              "<table border=\"1\" class=\"dataframe\">\n",
              "  <thead>\n",
              "    <tr style=\"text-align: right;\">\n",
              "      <th></th>\n",
              "      <th>location</th>\n",
              "      <th>location_transformada</th>\n",
              "      <th>mintemp</th>\n",
              "      <th>maxtemp</th>\n",
              "      <th>rainfall</th>\n",
              "      <th>evaporation</th>\n",
              "      <th>sunshine</th>\n",
              "      <th>windgustdir</th>\n",
              "      <th>windgustspeed</th>\n",
              "      <th>winddir9am</th>\n",
              "      <th>...</th>\n",
              "      <th>humidity3pm</th>\n",
              "      <th>pressure9am</th>\n",
              "      <th>pressure3pm</th>\n",
              "      <th>cloud9am</th>\n",
              "      <th>cloud3pm</th>\n",
              "      <th>temp9am</th>\n",
              "      <th>temp3pm</th>\n",
              "      <th>raintoday</th>\n",
              "      <th>risk_mm</th>\n",
              "      <th>raintomorrow</th>\n",
              "    </tr>\n",
              "    <tr>\n",
              "      <th>date</th>\n",
              "      <th></th>\n",
              "      <th></th>\n",
              "      <th></th>\n",
              "      <th></th>\n",
              "      <th></th>\n",
              "      <th></th>\n",
              "      <th></th>\n",
              "      <th></th>\n",
              "      <th></th>\n",
              "      <th></th>\n",
              "      <th></th>\n",
              "      <th></th>\n",
              "      <th></th>\n",
              "      <th></th>\n",
              "      <th></th>\n",
              "      <th></th>\n",
              "      <th></th>\n",
              "      <th></th>\n",
              "      <th></th>\n",
              "      <th></th>\n",
              "      <th></th>\n",
              "    </tr>\n",
              "  </thead>\n",
              "  <tbody>\n",
              "    <tr>\n",
              "      <th>2008-12-01</th>\n",
              "      <td>Albury</td>\n",
              "      <td>2</td>\n",
              "      <td>13.4</td>\n",
              "      <td>22.9</td>\n",
              "      <td>0.6</td>\n",
              "      <td>NaN</td>\n",
              "      <td>NaN</td>\n",
              "      <td>W</td>\n",
              "      <td>44.0</td>\n",
              "      <td>W</td>\n",
              "      <td>...</td>\n",
              "      <td>22.0</td>\n",
              "      <td>1007.7</td>\n",
              "      <td>1007.1</td>\n",
              "      <td>8.0</td>\n",
              "      <td>NaN</td>\n",
              "      <td>16.9</td>\n",
              "      <td>21.8</td>\n",
              "      <td>No</td>\n",
              "      <td>0.0</td>\n",
              "      <td>No</td>\n",
              "    </tr>\n",
              "    <tr>\n",
              "      <th>2008-12-02</th>\n",
              "      <td>Albury</td>\n",
              "      <td>2</td>\n",
              "      <td>7.4</td>\n",
              "      <td>25.1</td>\n",
              "      <td>0.0</td>\n",
              "      <td>NaN</td>\n",
              "      <td>NaN</td>\n",
              "      <td>WNW</td>\n",
              "      <td>44.0</td>\n",
              "      <td>NNW</td>\n",
              "      <td>...</td>\n",
              "      <td>25.0</td>\n",
              "      <td>1010.6</td>\n",
              "      <td>1007.8</td>\n",
              "      <td>NaN</td>\n",
              "      <td>NaN</td>\n",
              "      <td>17.2</td>\n",
              "      <td>24.3</td>\n",
              "      <td>No</td>\n",
              "      <td>0.0</td>\n",
              "      <td>No</td>\n",
              "    </tr>\n",
              "    <tr>\n",
              "      <th>2008-12-03</th>\n",
              "      <td>Albury</td>\n",
              "      <td>2</td>\n",
              "      <td>12.9</td>\n",
              "      <td>25.7</td>\n",
              "      <td>0.0</td>\n",
              "      <td>NaN</td>\n",
              "      <td>NaN</td>\n",
              "      <td>WSW</td>\n",
              "      <td>46.0</td>\n",
              "      <td>W</td>\n",
              "      <td>...</td>\n",
              "      <td>30.0</td>\n",
              "      <td>1007.6</td>\n",
              "      <td>1008.7</td>\n",
              "      <td>NaN</td>\n",
              "      <td>2.0</td>\n",
              "      <td>21.0</td>\n",
              "      <td>23.2</td>\n",
              "      <td>No</td>\n",
              "      <td>0.0</td>\n",
              "      <td>No</td>\n",
              "    </tr>\n",
              "    <tr>\n",
              "      <th>2008-12-04</th>\n",
              "      <td>Albury</td>\n",
              "      <td>2</td>\n",
              "      <td>9.2</td>\n",
              "      <td>28.0</td>\n",
              "      <td>0.0</td>\n",
              "      <td>NaN</td>\n",
              "      <td>NaN</td>\n",
              "      <td>NE</td>\n",
              "      <td>24.0</td>\n",
              "      <td>SE</td>\n",
              "      <td>...</td>\n",
              "      <td>16.0</td>\n",
              "      <td>1017.6</td>\n",
              "      <td>1012.8</td>\n",
              "      <td>NaN</td>\n",
              "      <td>NaN</td>\n",
              "      <td>18.1</td>\n",
              "      <td>26.5</td>\n",
              "      <td>No</td>\n",
              "      <td>1.0</td>\n",
              "      <td>No</td>\n",
              "    </tr>\n",
              "    <tr>\n",
              "      <th>2008-12-05</th>\n",
              "      <td>Albury</td>\n",
              "      <td>2</td>\n",
              "      <td>17.5</td>\n",
              "      <td>32.3</td>\n",
              "      <td>1.0</td>\n",
              "      <td>NaN</td>\n",
              "      <td>NaN</td>\n",
              "      <td>W</td>\n",
              "      <td>41.0</td>\n",
              "      <td>ENE</td>\n",
              "      <td>...</td>\n",
              "      <td>33.0</td>\n",
              "      <td>1010.8</td>\n",
              "      <td>1006.0</td>\n",
              "      <td>7.0</td>\n",
              "      <td>8.0</td>\n",
              "      <td>17.8</td>\n",
              "      <td>29.7</td>\n",
              "      <td>No</td>\n",
              "      <td>0.2</td>\n",
              "      <td>No</td>\n",
              "    </tr>\n",
              "  </tbody>\n",
              "</table>\n",
              "<p>5 rows × 24 columns</p>\n",
              "</div>"
            ],
            "text/plain": [
              "           location  location_transformada  mintemp  maxtemp  rainfall  \\\n",
              "date                                                                     \n",
              "2008-12-01   Albury                      2     13.4     22.9       0.6   \n",
              "2008-12-02   Albury                      2      7.4     25.1       0.0   \n",
              "2008-12-03   Albury                      2     12.9     25.7       0.0   \n",
              "2008-12-04   Albury                      2      9.2     28.0       0.0   \n",
              "2008-12-05   Albury                      2     17.5     32.3       1.0   \n",
              "\n",
              "            evaporation  sunshine windgustdir  windgustspeed winddir9am  ...  \\\n",
              "date                                                                     ...   \n",
              "2008-12-01          NaN       NaN           W           44.0          W  ...   \n",
              "2008-12-02          NaN       NaN         WNW           44.0        NNW  ...   \n",
              "2008-12-03          NaN       NaN         WSW           46.0          W  ...   \n",
              "2008-12-04          NaN       NaN          NE           24.0         SE  ...   \n",
              "2008-12-05          NaN       NaN           W           41.0        ENE  ...   \n",
              "\n",
              "           humidity3pm  pressure9am  pressure3pm  cloud9am  cloud3pm  temp9am  \\\n",
              "date                                                                            \n",
              "2008-12-01        22.0       1007.7       1007.1       8.0       NaN     16.9   \n",
              "2008-12-02        25.0       1010.6       1007.8       NaN       NaN     17.2   \n",
              "2008-12-03        30.0       1007.6       1008.7       NaN       2.0     21.0   \n",
              "2008-12-04        16.0       1017.6       1012.8       NaN       NaN     18.1   \n",
              "2008-12-05        33.0       1010.8       1006.0       7.0       8.0     17.8   \n",
              "\n",
              "            temp3pm  raintoday  risk_mm  raintomorrow  \n",
              "date                                                   \n",
              "2008-12-01     21.8         No      0.0            No  \n",
              "2008-12-02     24.3         No      0.0            No  \n",
              "2008-12-03     23.2         No      0.0            No  \n",
              "2008-12-04     26.5         No      1.0            No  \n",
              "2008-12-05     29.7         No      0.2            No  \n",
              "\n",
              "[5 rows x 24 columns]"
            ]
          },
          "execution_count": 82,
          "metadata": {},
          "output_type": "execute_result"
        }
      ],
      "source": [
        "df_transfor_pregunta_2 = df_weather2.copy()\n",
        "df_transfor_pregunta_2.insert(1, 'location_transformada', variable_transformada)\n",
        "df_transfor_pregunta_2.head()"
      ]
    },
    {
      "cell_type": "code",
      "execution_count": 20,
      "metadata": {
        "id": "j7N-E86S53gS",
        "outputId": "8ba536df-5b1d-4c98-e6bb-683d881818be"
      },
      "outputs": [
        {
          "data": {
            "text/plain": [
              "sunshine         67816\n",
              "evaporation      60843\n",
              "cloud3pm         57094\n",
              "cloud9am         53657\n",
              "pressure9am      14014\n",
              "pressure3pm      13981\n",
              "winddir9am       10013\n",
              "windgustdir       9330\n",
              "windgustspeed     9270\n",
              "winddir3pm        3778\n",
              "humidity3pm       3610\n",
              "temp3pm           2726\n",
              "windspeed3pm      2630\n",
              "humidity9am       1774\n",
              "raintoday         1406\n",
              "rainfall          1406\n",
              "windspeed9am      1348\n",
              "temp9am            904\n",
              "mintemp            637\n",
              "risk_mm              0\n",
              "location             0\n",
              "maxtemp              0\n",
              "raintomorrow         0\n",
              "dtype: int64"
            ]
          },
          "execution_count": 20,
          "metadata": {},
          "output_type": "execute_result"
        }
      ],
      "source": [
        "df_weather2.isnull().sum().sort_values(ascending=False)"
      ]
    },
    {
      "cell_type": "code",
      "execution_count": 21,
      "metadata": {
        "colab": {
          "base_uri": "https://localhost:8080/"
        },
        "id": "dO_D_ICx-WMv",
        "outputId": "49501757-d3ad-40de-c9e8-a56cde0c3c39"
      },
      "outputs": [
        {
          "name": "stdout",
          "output_type": "stream",
          "text": [
            "La columna rainfall presenta 1406 valores nulos\n",
            "La columna location presenta 0 valores nulos\n",
            "La columna date presenta 0 valores nulos\n"
          ]
        }
      ],
      "source": [
        "print(\"La columna rainfall presenta {0} valores nulos\".format(df_weather2.rainfall.isnull().sum()))\n",
        "print(\"La columna location presenta {0} valores nulos\".format(df_weather2.location.isnull().sum()))\n",
        "print(\"La columna date presenta {0} valores nulos\".format(df_weather2.index.isnull().sum()))"
      ]
    },
    {
      "cell_type": "code",
      "execution_count": 22,
      "metadata": {
        "id": "4S-ObNXapgo5",
        "outputId": "0ce56e13-b4f0-4349-9c00-fa77a22c8b35"
      },
      "outputs": [
        {
          "data": {
            "image/png": "[encoded data removed]",
            "text/plain": [
              "<Figure size 720x720 with 1 Axes>"
            ]
          },
          "metadata": {
            "needs_background": "light"
          },
          "output_type": "display_data"
        }
      ],
      "source": [
        "plt.figure(figsize=(10,10))\n",
        "sns.boxplot(y=df_weather2.rainfall, data=df_weather2)\n",
        "plt.xlabel('rainfall')\n",
        "plt.ylabel('Valores')\n",
        "plt.title(r'Outliers de Rainfall');"
      ]
    },
    {
      "cell_type": "code",
      "execution_count": 23,
      "metadata": {
        "colab": {
          "base_uri": "https://localhost:8080/"
        },
        "id": "jRLrjIog9tb_",
        "outputId": "51dd541c-fc75-47b9-ba94-42c3465ae2f8"
      },
      "outputs": [
        {
          "name": "stdout",
          "output_type": "stream",
          "text": [
            "Valores nulos de la columna rainfall :  0\n"
          ]
        }
      ],
      "source": [
        "# Realiza la imputación\n",
        "df_weather2.rainfall = df_weather2.rainfall.fillna(df_weather.rainfall.median())\n",
        "# Verifica la cantidad de nulos\n",
        "df_weather.rainfall.isnull().sum()\n",
        "print(\"Valores nulos de la columna rainfall :  {0}\".format(df_weather2.rainfall.isnull().sum()))"
      ]
    },
    {
      "cell_type": "markdown",
      "metadata": {
        "id": "V3pK_ysW59ys"
      },
      "source": [
        "## Análisis exploratorio de la/las columna/as involucradas en la pregunta"
      ]
    },
    {
      "cell_type": "markdown",
      "metadata": {
        "id": "TWPfMy036MBi"
      },
      "source": [
        "### Cálculo e interpretación de las medidas básicas de acuerdo con el tipo de variable"
      ]
    },
    {
      "cell_type": "code",
      "execution_count": 24,
      "metadata": {
        "id": "9W44Vhvy6DdW",
        "outputId": "9fda8a77-bcb5-42c9-942a-ce0c2665fd3a"
      },
      "outputs": [
        {
          "data": {
            "text/plain": [
              "count    142193.000000\n",
              "mean          2.326738\n",
              "std           8.426426\n",
              "min           0.000000\n",
              "25%           0.000000\n",
              "50%           0.000000\n",
              "75%           0.600000\n",
              "max         371.000000\n",
              "Name: rainfall, dtype: float64"
            ]
          },
          "execution_count": 24,
          "metadata": {},
          "output_type": "execute_result"
        }
      ],
      "source": [
        "df_weather2['rainfall'].describe()"
      ]
    },
    {
      "cell_type": "markdown",
      "metadata": {
        "id": "baMyWcEpAssX"
      },
      "source": [
        "- El promedio de lluvia caida entre todas las ciudades es de 2.3 ml\n",
        "- El 75% de las ciudades tiene precipitaciones igual o inferior a 0,6 ml\n",
        "- La mayor concentracion de datos se encuentra entre los 0 y 10,7 mililitros de lluvia caida\n"
      ]
    },
    {
      "cell_type": "markdown",
      "metadata": {
        "id": "_yba2PF0kRZp"
      },
      "source": [
        "**Comprobacion de medidas**"
      ]
    },
    {
      "cell_type": "code",
      "execution_count": 25,
      "metadata": {
        "colab": {
          "base_uri": "https://localhost:8080/"
        },
        "id": "pX3Uk5KXndK9",
        "outputId": "9e3c9d49-fc5c-43d5-8a13-9ace2c5e1923"
      },
      "outputs": [
        {
          "data": {
            "text/plain": [
              "2.326737603117244"
            ]
          },
          "execution_count": 25,
          "metadata": {},
          "output_type": "execute_result"
        }
      ],
      "source": [
        "df_weather2.rainfall.mean()"
      ]
    },
    {
      "cell_type": "markdown",
      "metadata": {
        "id": "zI6K_Zminkb6"
      },
      "source": [
        "**El promedio de lluvia caida entre todas las ciudades es de 2.3 ml**"
      ]
    },
    {
      "cell_type": "code",
      "execution_count": 26,
      "metadata": {
        "colab": {
          "base_uri": "https://localhost:8080/"
        },
        "id": "Ypvkc_dRkWhU",
        "outputId": "bfd54053-c489-4a55-8fb6-4bd4d05a417d"
      },
      "outputs": [
        {
          "name": "stdout",
          "output_type": "stream",
          "text": [
            "Intervalo = [-6.099658438402475;10.753133644636964]\n",
            "93.91812536482105\n"
          ]
        }
      ],
      "source": [
        "mean, std = np.mean(df_weather2.rainfall), np.std(df_weather2.rainfall)\n",
        "lim_inf, lim_sup = mean - std, mean + std\n",
        "print(\"Intervalo = [{0};{1}]\".format(lim_inf, lim_sup))\n",
        "analizados = df_weather2.query(\"rainfall >= {0} & rainfall <= {1}\".format(lim_inf, lim_sup))['rainfall'].count()\n",
        "total = df_weather2.shape[0]\n",
        "print(analizados/total*100)"
      ]
    },
    {
      "cell_type": "markdown",
      "metadata": {
        "id": "vMguegpKmgyh"
      },
      "source": [
        "**El 94% de los ciudades presenta precipitaciones entre 0 ml y 10,7 ml**"
      ]
    },
    {
      "cell_type": "code",
      "execution_count": 27,
      "metadata": {
        "colab": {
          "base_uri": "https://localhost:8080/"
        },
        "id": "ZjTf4eXqm1K8",
        "outputId": "a5bbb02c-8c31-4b81-e8f4-44648887158a"
      },
      "outputs": [
        {
          "name": "stdout",
          "output_type": "stream",
          "text": [
            "0.6\n",
            "75.20412397234745\n"
          ]
        }
      ],
      "source": [
        "cuartil_tres = np.quantile(df_weather2.rainfall, 0.75)\n",
        "print(cuartil_tres)\n",
        "analizados = df_weather2.query(\"rainfall <= {}\".format(cuartil_tres))['rainfall'].count()\n",
        "total = df_weather2.shape[0]\n",
        "print(analizados/total*100)"
      ]
    },
    {
      "cell_type": "markdown",
      "metadata": {
        "id": "mkqCkyhMnUPq"
      },
      "source": [
        "**El 75% de las ciudades tiene precipitaciones igual o inferior a 0,6 ml**"
      ]
    },
    {
      "cell_type": "markdown",
      "metadata": {
        "id": "4Q_vpYUr6nRA"
      },
      "source": [
        "## Respuesta, vía código, a la pregunta"
      ]
    },
    {
      "cell_type": "code",
      "execution_count": 28,
      "metadata": {
        "id": "mQ4Op_Xx6uAi",
        "outputId": "ef36065b-dfad-41fc-c029-70b61e8d668b"
      },
      "outputs": [
        {
          "data": {
            "text/html": [
              "<div>\n",
              "<style scoped>\n",
              "    .dataframe tbody tr th:only-of-type {\n",
              "        vertical-align: middle;\n",
              "    }\n",
              "\n",
              "    .dataframe tbody tr th {\n",
              "        vertical-align: top;\n",
              "    }\n",
              "\n",
              "    .dataframe thead th {\n",
              "        text-align: right;\n",
              "    }\n",
              "</style>\n",
              "<table border=\"1\" class=\"dataframe\">\n",
              "  <thead>\n",
              "    <tr style=\"text-align: right;\">\n",
              "      <th></th>\n",
              "      <th></th>\n",
              "      <th>rainfall</th>\n",
              "    </tr>\n",
              "    <tr>\n",
              "      <th>date</th>\n",
              "      <th>location</th>\n",
              "      <th></th>\n",
              "    </tr>\n",
              "  </thead>\n",
              "  <tbody>\n",
              "    <tr>\n",
              "      <th>2008</th>\n",
              "      <th>Albury</th>\n",
              "      <td>1.800000</td>\n",
              "    </tr>\n",
              "    <tr>\n",
              "      <th>2009</th>\n",
              "      <th>Albury</th>\n",
              "      <td>1.307692</td>\n",
              "    </tr>\n",
              "    <tr>\n",
              "      <th>2010</th>\n",
              "      <th>Albury</th>\n",
              "      <td>2.559777</td>\n",
              "    </tr>\n",
              "    <tr>\n",
              "      <th>2011</th>\n",
              "      <th>Albury</th>\n",
              "      <td>2.560606</td>\n",
              "    </tr>\n",
              "    <tr>\n",
              "      <th>2012</th>\n",
              "      <th>Albury</th>\n",
              "      <td>2.201796</td>\n",
              "    </tr>\n",
              "    <tr>\n",
              "      <th>2013</th>\n",
              "      <th>Albury</th>\n",
              "      <td>1.584384</td>\n",
              "    </tr>\n",
              "    <tr>\n",
              "      <th>2014</th>\n",
              "      <th>Albury</th>\n",
              "      <td>1.648889</td>\n",
              "    </tr>\n",
              "    <tr>\n",
              "      <th>2015</th>\n",
              "      <th>Albury</th>\n",
              "      <td>1.703014</td>\n",
              "    </tr>\n",
              "    <tr>\n",
              "      <th>2016</th>\n",
              "      <th>Albury</th>\n",
              "      <td>2.199454</td>\n",
              "    </tr>\n",
              "    <tr>\n",
              "      <th>2017</th>\n",
              "      <th>Albury</th>\n",
              "      <td>1.083041</td>\n",
              "    </tr>\n",
              "  </tbody>\n",
              "</table>\n",
              "</div>"
            ],
            "text/plain": [
              "               rainfall\n",
              "date location          \n",
              "2008 Albury    1.800000\n",
              "2009 Albury    1.307692\n",
              "2010 Albury    2.559777\n",
              "2011 Albury    2.560606\n",
              "2012 Albury    2.201796\n",
              "2013 Albury    1.584384\n",
              "2014 Albury    1.648889\n",
              "2015 Albury    1.703014\n",
              "2016 Albury    2.199454\n",
              "2017 Albury    1.083041"
            ]
          },
          "execution_count": 28,
          "metadata": {},
          "output_type": "execute_result"
        }
      ],
      "source": [
        "filtro = df_weather2[df_weather2['location'].str.contains(\"Albury\", case = False)]\n",
        "data_preg_2 = pd.DataFrame(filtro.groupby([filtro.index.year, 'location'])['rainfall'].mean())\n",
        "data_preg_2"
      ]
    },
    {
      "cell_type": "code",
      "execution_count": 29,
      "metadata": {
        "id": "LZSkFrkdpgo6",
        "outputId": "e4ce580b-4548-4736-e466-83c66cbab0eb"
      },
      "outputs": [
        {
          "data": {
            "image/png": "[encoded data removed]",
            "text/plain": [
              "<Figure size 1440x720 with 1 Axes>"
            ]
          },
          "metadata": {
            "needs_background": "light"
          },
          "output_type": "display_data"
        }
      ],
      "source": [
        "df_promedio = pd.DataFrame(data_preg_2)\n",
        "df_promedio.plot(kind='bar', title='Promedio de lluvia en Albury', xlabel='Año', ylabel='promedio(ML)', color = [\"orange\"])\n",
        "plt.gcf().set_size_inches(20, 10)"
      ]
    },
    {
      "cell_type": "markdown",
      "metadata": {
        "id": "ZTZlXwNB66o3"
      },
      "source": [
        "## Información y conocimiento útil obtenido (patrones, tendencias)"
      ]
    },
    {
      "cell_type": "markdown",
      "metadata": {
        "id": "5t2lIUNu8nPt"
      },
      "source": [
        "+ En el año 2017 la ciudad de Albury tuvo la menor cantidad ml de lluvia caidos entre todos los registros\n",
        "+ En el año 2012 y en el año 2016 el promedio de lluvia caida fue el mismo\n",
        "+ En el año 2010 y 2011, Albury presento la mayor cantidad de lluvias"
      ]
    },
    {
      "cell_type": "markdown",
      "metadata": {
        "id": "CqnG5Tug5EhT"
      },
      "source": [
        "# Pregunta 3"
      ]
    },
    {
      "cell_type": "markdown",
      "metadata": {
        "id": "82FzCIvg5ytV"
      },
      "source": [
        "## Limpieza y transformación de la/las columnas involucradas en la pregunta"
      ]
    },
    {
      "cell_type": "markdown",
      "metadata": {},
      "source": [
        "+ Dado que la columna Location presenta 49 valores unicos, se toma la desición de realizar la transformación de la columna con LabelEncoder(). Esto es porque al usar OneHotEncoder() se crearán las columnas respectivas para cada uno de los valores unicos presentes en location"
      ]
    },
    {
      "cell_type": "code",
      "execution_count": 83,
      "metadata": {},
      "outputs": [
        {
          "data": {
            "text/plain": [
              "array([ 2,  2,  2, ..., 41, 41, 41])"
            ]
          },
          "execution_count": 83,
          "metadata": {},
          "output_type": "execute_result"
        }
      ],
      "source": [
        "#Se usará la misma variable encoder creada en la pregunta numero 1\n",
        "variable_pregunta_3 = df_weather2['location']\n",
        "variable_transfor_pregunta_3 = encoder.fit_transform(variable_pregunta_3)\n",
        "variable_transfor_pregunta_3"
      ]
    },
    {
      "cell_type": "code",
      "execution_count": 84,
      "metadata": {},
      "outputs": [
        {
          "data": {
            "text/html": [
              "<div>\n",
              "<style scoped>\n",
              "    .dataframe tbody tr th:only-of-type {\n",
              "        vertical-align: middle;\n",
              "    }\n",
              "\n",
              "    .dataframe tbody tr th {\n",
              "        vertical-align: top;\n",
              "    }\n",
              "\n",
              "    .dataframe thead th {\n",
              "        text-align: right;\n",
              "    }\n",
              "</style>\n",
              "<table border=\"1\" class=\"dataframe\">\n",
              "  <thead>\n",
              "    <tr style=\"text-align: right;\">\n",
              "      <th></th>\n",
              "      <th>location</th>\n",
              "      <th>location_transformada</th>\n",
              "      <th>mintemp</th>\n",
              "      <th>maxtemp</th>\n",
              "      <th>rainfall</th>\n",
              "      <th>evaporation</th>\n",
              "      <th>sunshine</th>\n",
              "      <th>windgustdir</th>\n",
              "      <th>windgustspeed</th>\n",
              "      <th>winddir9am</th>\n",
              "      <th>...</th>\n",
              "      <th>humidity3pm</th>\n",
              "      <th>pressure9am</th>\n",
              "      <th>pressure3pm</th>\n",
              "      <th>cloud9am</th>\n",
              "      <th>cloud3pm</th>\n",
              "      <th>temp9am</th>\n",
              "      <th>temp3pm</th>\n",
              "      <th>raintoday</th>\n",
              "      <th>risk_mm</th>\n",
              "      <th>raintomorrow</th>\n",
              "    </tr>\n",
              "    <tr>\n",
              "      <th>date</th>\n",
              "      <th></th>\n",
              "      <th></th>\n",
              "      <th></th>\n",
              "      <th></th>\n",
              "      <th></th>\n",
              "      <th></th>\n",
              "      <th></th>\n",
              "      <th></th>\n",
              "      <th></th>\n",
              "      <th></th>\n",
              "      <th></th>\n",
              "      <th></th>\n",
              "      <th></th>\n",
              "      <th></th>\n",
              "      <th></th>\n",
              "      <th></th>\n",
              "      <th></th>\n",
              "      <th></th>\n",
              "      <th></th>\n",
              "      <th></th>\n",
              "      <th></th>\n",
              "    </tr>\n",
              "  </thead>\n",
              "  <tbody>\n",
              "    <tr>\n",
              "      <th>2008-12-01</th>\n",
              "      <td>Albury</td>\n",
              "      <td>2</td>\n",
              "      <td>13.4</td>\n",
              "      <td>22.9</td>\n",
              "      <td>0.6</td>\n",
              "      <td>NaN</td>\n",
              "      <td>NaN</td>\n",
              "      <td>W</td>\n",
              "      <td>44.0</td>\n",
              "      <td>W</td>\n",
              "      <td>...</td>\n",
              "      <td>22.0</td>\n",
              "      <td>1007.7</td>\n",
              "      <td>1007.1</td>\n",
              "      <td>8.0</td>\n",
              "      <td>NaN</td>\n",
              "      <td>16.9</td>\n",
              "      <td>21.8</td>\n",
              "      <td>No</td>\n",
              "      <td>0.0</td>\n",
              "      <td>No</td>\n",
              "    </tr>\n",
              "    <tr>\n",
              "      <th>2008-12-02</th>\n",
              "      <td>Albury</td>\n",
              "      <td>2</td>\n",
              "      <td>7.4</td>\n",
              "      <td>25.1</td>\n",
              "      <td>0.0</td>\n",
              "      <td>NaN</td>\n",
              "      <td>NaN</td>\n",
              "      <td>WNW</td>\n",
              "      <td>44.0</td>\n",
              "      <td>NNW</td>\n",
              "      <td>...</td>\n",
              "      <td>25.0</td>\n",
              "      <td>1010.6</td>\n",
              "      <td>1007.8</td>\n",
              "      <td>NaN</td>\n",
              "      <td>NaN</td>\n",
              "      <td>17.2</td>\n",
              "      <td>24.3</td>\n",
              "      <td>No</td>\n",
              "      <td>0.0</td>\n",
              "      <td>No</td>\n",
              "    </tr>\n",
              "    <tr>\n",
              "      <th>2008-12-03</th>\n",
              "      <td>Albury</td>\n",
              "      <td>2</td>\n",
              "      <td>12.9</td>\n",
              "      <td>25.7</td>\n",
              "      <td>0.0</td>\n",
              "      <td>NaN</td>\n",
              "      <td>NaN</td>\n",
              "      <td>WSW</td>\n",
              "      <td>46.0</td>\n",
              "      <td>W</td>\n",
              "      <td>...</td>\n",
              "      <td>30.0</td>\n",
              "      <td>1007.6</td>\n",
              "      <td>1008.7</td>\n",
              "      <td>NaN</td>\n",
              "      <td>2.0</td>\n",
              "      <td>21.0</td>\n",
              "      <td>23.2</td>\n",
              "      <td>No</td>\n",
              "      <td>0.0</td>\n",
              "      <td>No</td>\n",
              "    </tr>\n",
              "    <tr>\n",
              "      <th>2008-12-04</th>\n",
              "      <td>Albury</td>\n",
              "      <td>2</td>\n",
              "      <td>9.2</td>\n",
              "      <td>28.0</td>\n",
              "      <td>0.0</td>\n",
              "      <td>NaN</td>\n",
              "      <td>NaN</td>\n",
              "      <td>NE</td>\n",
              "      <td>24.0</td>\n",
              "      <td>SE</td>\n",
              "      <td>...</td>\n",
              "      <td>16.0</td>\n",
              "      <td>1017.6</td>\n",
              "      <td>1012.8</td>\n",
              "      <td>NaN</td>\n",
              "      <td>NaN</td>\n",
              "      <td>18.1</td>\n",
              "      <td>26.5</td>\n",
              "      <td>No</td>\n",
              "      <td>1.0</td>\n",
              "      <td>No</td>\n",
              "    </tr>\n",
              "    <tr>\n",
              "      <th>2008-12-05</th>\n",
              "      <td>Albury</td>\n",
              "      <td>2</td>\n",
              "      <td>17.5</td>\n",
              "      <td>32.3</td>\n",
              "      <td>1.0</td>\n",
              "      <td>NaN</td>\n",
              "      <td>NaN</td>\n",
              "      <td>W</td>\n",
              "      <td>41.0</td>\n",
              "      <td>ENE</td>\n",
              "      <td>...</td>\n",
              "      <td>33.0</td>\n",
              "      <td>1010.8</td>\n",
              "      <td>1006.0</td>\n",
              "      <td>7.0</td>\n",
              "      <td>8.0</td>\n",
              "      <td>17.8</td>\n",
              "      <td>29.7</td>\n",
              "      <td>No</td>\n",
              "      <td>0.2</td>\n",
              "      <td>No</td>\n",
              "    </tr>\n",
              "  </tbody>\n",
              "</table>\n",
              "<p>5 rows × 24 columns</p>\n",
              "</div>"
            ],
            "text/plain": [
              "           location  location_transformada  mintemp  maxtemp  rainfall  \\\n",
              "date                                                                     \n",
              "2008-12-01   Albury                      2     13.4     22.9       0.6   \n",
              "2008-12-02   Albury                      2      7.4     25.1       0.0   \n",
              "2008-12-03   Albury                      2     12.9     25.7       0.0   \n",
              "2008-12-04   Albury                      2      9.2     28.0       0.0   \n",
              "2008-12-05   Albury                      2     17.5     32.3       1.0   \n",
              "\n",
              "            evaporation  sunshine windgustdir  windgustspeed winddir9am  ...  \\\n",
              "date                                                                     ...   \n",
              "2008-12-01          NaN       NaN           W           44.0          W  ...   \n",
              "2008-12-02          NaN       NaN         WNW           44.0        NNW  ...   \n",
              "2008-12-03          NaN       NaN         WSW           46.0          W  ...   \n",
              "2008-12-04          NaN       NaN          NE           24.0         SE  ...   \n",
              "2008-12-05          NaN       NaN           W           41.0        ENE  ...   \n",
              "\n",
              "           humidity3pm  pressure9am  pressure3pm  cloud9am  cloud3pm  temp9am  \\\n",
              "date                                                                            \n",
              "2008-12-01        22.0       1007.7       1007.1       8.0       NaN     16.9   \n",
              "2008-12-02        25.0       1010.6       1007.8       NaN       NaN     17.2   \n",
              "2008-12-03        30.0       1007.6       1008.7       NaN       2.0     21.0   \n",
              "2008-12-04        16.0       1017.6       1012.8       NaN       NaN     18.1   \n",
              "2008-12-05        33.0       1010.8       1006.0       7.0       8.0     17.8   \n",
              "\n",
              "            temp3pm  raintoday  risk_mm  raintomorrow  \n",
              "date                                                   \n",
              "2008-12-01     21.8         No      0.0            No  \n",
              "2008-12-02     24.3         No      0.0            No  \n",
              "2008-12-03     23.2         No      0.0            No  \n",
              "2008-12-04     26.5         No      1.0            No  \n",
              "2008-12-05     29.7         No      0.2            No  \n",
              "\n",
              "[5 rows x 24 columns]"
            ]
          },
          "execution_count": 84,
          "metadata": {},
          "output_type": "execute_result"
        }
      ],
      "source": [
        "df_transfor_pregunta_3 = df_weather2.copy()\n",
        "df_transfor_pregunta_3.insert(1, 'location_transformada', variable_transfor_pregunta_3)\n",
        "df_transfor_pregunta_3.head()"
      ]
    },
    {
      "cell_type": "code",
      "execution_count": 30,
      "metadata": {
        "id": "8G65us9wpgo7",
        "outputId": "bca55559-fb70-44de-9b12-117dd30f65a2"
      },
      "outputs": [
        {
          "data": {
            "image/png": "[encoded data removed]",
            "text/plain": [
              "<Figure size 720x720 with 1 Axes>"
            ]
          },
          "metadata": {
            "needs_background": "light"
          },
          "output_type": "display_data"
        }
      ],
      "source": [
        "plt.figure(figsize=(10,10))\n",
        "sns.boxplot(y=df_weather2.rainfall, data=df_weather2)\n",
        "sns.boxplot(y=df_weather2.windgustspeed, data=df_weather2)\n",
        "plt.xlabel('lluvia caida')\n",
        "plt.ylabel('')\n",
        "plt.title(r'');"
      ]
    },
    {
      "cell_type": "code",
      "execution_count": 31,
      "metadata": {},
      "outputs": [
        {
          "data": {
            "text/plain": [
              "location             0\n",
              "risk_mm              0\n",
              "windgustspeed        0\n",
              "raintomorrow         0\n",
              "maxtemp              0\n",
              "rainfall             0\n",
              "mintemp            637\n",
              "temp9am            904\n",
              "windspeed9am      1348\n",
              "raintoday         1406\n",
              "humidity9am       1774\n",
              "windspeed3pm      2630\n",
              "temp3pm           2726\n",
              "humidity3pm       3610\n",
              "winddir3pm        3778\n",
              "windgustdir       9330\n",
              "winddir9am       10013\n",
              "pressure3pm      13981\n",
              "pressure9am      14014\n",
              "cloud9am         53657\n",
              "cloud3pm         57094\n",
              "evaporation      60843\n",
              "sunshine         67816\n",
              "dtype: int64"
            ]
          },
          "execution_count": 31,
          "metadata": {},
          "output_type": "execute_result"
        }
      ],
      "source": [
        "moda_rain = df_weather2.rainfall.mode()[0]\n",
        "df_weather2.rainfall = df_weather2.rainfall.fillna(moda_rain)\n",
        "moda_wind = df_weather2.windgustspeed.mode()[0]\n",
        "df_weather2.windgustspeed = df_weather2.windgustspeed.fillna(moda_rain)\n",
        "df_weather2.isnull().sum().sort_values(ascending=True)"
      ]
    },
    {
      "cell_type": "markdown",
      "metadata": {},
      "source": [
        "+ Se remplazaron  los nulos de lluvia 'Rainfall' y rafagas de viento 'WindGustSpeed' por la moda ya que asi nos dara una mejor representacion, ya que las columnas presentan valores atipicos"
      ]
    },
    {
      "cell_type": "markdown",
      "metadata": {
        "id": "gxjM2ehl5-vF"
      },
      "source": [
        "## Análisis exploratorio de la/las columna/as involucradas en la pregunta"
      ]
    },
    {
      "cell_type": "markdown",
      "metadata": {
        "id": "hxK7FZzH6Nag"
      },
      "source": [
        "### Cálculo e interpretación de las medidas básicas de acuerdo con el tipo de variable"
      ]
    },
    {
      "cell_type": "code",
      "execution_count": 32,
      "metadata": {
        "id": "Hk1zLwkp6Eqc"
      },
      "outputs": [
        {
          "data": {
            "text/plain": [
              "count    142193.000000\n",
              "mean         37.377592\n",
              "std          16.433198\n",
              "min           0.000000\n",
              "25%          30.000000\n",
              "50%          37.000000\n",
              "75%          46.000000\n",
              "max         135.000000\n",
              "Name: windgustspeed, dtype: float64"
            ]
          },
          "execution_count": 32,
          "metadata": {},
          "output_type": "execute_result"
        }
      ],
      "source": [
        "df_weather2['windgustspeed'].describe()"
      ]
    },
    {
      "cell_type": "markdown",
      "metadata": {},
      "source": [
        "+ El promedio de rafagas de viento entre los años es de 39 k/h\n",
        "+ El 75% de las rafagas de viento es de 48 k/h\n",
        "+ El 25% de las rafagas de viento corresponden a 31 k/h"
      ]
    },
    {
      "cell_type": "code",
      "execution_count": 33,
      "metadata": {},
      "outputs": [
        {
          "name": "stdout",
          "output_type": "stream",
          "text": [
            "Intervalo = [20.944452515626498;53.810732338761554]\n",
            "73.64005260455859\n"
          ]
        }
      ],
      "source": [
        "mean, std = np.mean(df_weather2.windgustspeed), np.std(df_weather2.windgustspeed)\n",
        "lim_inf, lim_sup = mean - std, mean + std\n",
        "print(\"Intervalo = [{0};{1}]\".format(lim_inf, lim_sup))\n",
        "analizados = df_weather2.query(\" windgustspeed >= {0} & windgustspeed <= {1}\".format(lim_inf, lim_sup))['windgustspeed'].count()\n",
        "total = df_weather2.shape[0]\n",
        "print(analizados/total*100)"
      ]
    },
    {
      "cell_type": "code",
      "execution_count": 34,
      "metadata": {},
      "outputs": [
        {
          "name": "stdout",
          "output_type": "stream",
          "text": [
            "46.0\n",
            "75.81807824576457\n"
          ]
        }
      ],
      "source": [
        "cuartil_tres = np.quantile(df_weather2.windgustspeed, 0.75)\n",
        "print(cuartil_tres)\n",
        "analizados = df_weather2.query(\" windgustspeed <= {}\".format(cuartil_tres))['windgustspeed'].count()\n",
        "total = df_weather2.shape[0]\n",
        "print(analizados/total*100)"
      ]
    },
    {
      "cell_type": "code",
      "execution_count": 35,
      "metadata": {},
      "outputs": [
        {
          "name": "stdout",
          "output_type": "stream",
          "text": [
            "30.0\n",
            "29.296097557545025\n"
          ]
        }
      ],
      "source": [
        "cuartil_uno = np.quantile(df_weather2.windgustspeed, 0.25)\n",
        "print(cuartil_uno)\n",
        "analizados = df_weather2.query(\"windgustspeed <= {}\".format(cuartil_uno))['windgustspeed'].count()\n",
        "total = df_weather2.shape[0]\n",
        "print(analizados/total*100)"
      ]
    },
    {
      "cell_type": "code",
      "execution_count": 36,
      "metadata": {},
      "outputs": [
        {
          "data": {
            "text/plain": [
              "count    142193.000000\n",
              "mean          2.326738\n",
              "std           8.426426\n",
              "min           0.000000\n",
              "25%           0.000000\n",
              "50%           0.000000\n",
              "75%           0.600000\n",
              "max         371.000000\n",
              "Name: rainfall, dtype: float64"
            ]
          },
          "execution_count": 36,
          "metadata": {},
          "output_type": "execute_result"
        }
      ],
      "source": [
        "df_weather2['rainfall'].describe()"
      ]
    },
    {
      "cell_type": "markdown",
      "metadata": {},
      "source": [
        "- El promedio de lluvia caida entre todas las ciudades es de 2.3 ml\n",
        "- El 75% de las ciudades tiene precipitaciones igual o inferior a 0,6 ml\n",
        "- La mayor concentracion de datos se encuentra entre los 0 y 10,7 mililitros de lluvia caida"
      ]
    },
    {
      "cell_type": "markdown",
      "metadata": {
        "id": "hgIE_TBN6pWv"
      },
      "source": [
        "## Respuesta, vía código, a la pregunta"
      ]
    },
    {
      "cell_type": "code",
      "execution_count": 37,
      "metadata": {
        "id": "aqJmKXwQ6xPt",
        "outputId": "a84b6b98-0dec-4736-d000-cf502777b740"
      },
      "outputs": [
        {
          "data": {
            "text/html": [
              "<div>\n",
              "<style scoped>\n",
              "    .dataframe tbody tr th:only-of-type {\n",
              "        vertical-align: middle;\n",
              "    }\n",
              "\n",
              "    .dataframe tbody tr th {\n",
              "        vertical-align: top;\n",
              "    }\n",
              "\n",
              "    .dataframe thead th {\n",
              "        text-align: right;\n",
              "    }\n",
              "</style>\n",
              "<table border=\"1\" class=\"dataframe\">\n",
              "  <thead>\n",
              "    <tr style=\"text-align: right;\">\n",
              "      <th></th>\n",
              "      <th>windgustspeed</th>\n",
              "      <th>rain</th>\n",
              "    </tr>\n",
              "    <tr>\n",
              "      <th>date</th>\n",
              "      <th></th>\n",
              "      <th></th>\n",
              "    </tr>\n",
              "  </thead>\n",
              "  <tbody>\n",
              "    <tr>\n",
              "      <th>1</th>\n",
              "      <td>38.914542</td>\n",
              "      <td>3.543832</td>\n",
              "    </tr>\n",
              "    <tr>\n",
              "      <th>2</th>\n",
              "      <td>38.726077</td>\n",
              "      <td>1.236085</td>\n",
              "    </tr>\n",
              "    <tr>\n",
              "      <th>3</th>\n",
              "      <td>35.484642</td>\n",
              "      <td>2.382457</td>\n",
              "    </tr>\n",
              "    <tr>\n",
              "      <th>4</th>\n",
              "      <td>34.109484</td>\n",
              "      <td>1.428870</td>\n",
              "    </tr>\n",
              "    <tr>\n",
              "      <th>5</th>\n",
              "      <td>36.901726</td>\n",
              "      <td>2.124104</td>\n",
              "    </tr>\n",
              "    <tr>\n",
              "      <th>6</th>\n",
              "      <td>35.303486</td>\n",
              "      <td>4.507929</td>\n",
              "    </tr>\n",
              "    <tr>\n",
              "      <th>7</th>\n",
              "      <td>38.264725</td>\n",
              "      <td>2.608206</td>\n",
              "    </tr>\n",
              "    <tr>\n",
              "      <th>8</th>\n",
              "      <td>36.176238</td>\n",
              "      <td>2.312475</td>\n",
              "    </tr>\n",
              "    <tr>\n",
              "      <th>9</th>\n",
              "      <td>37.069945</td>\n",
              "      <td>2.982964</td>\n",
              "    </tr>\n",
              "    <tr>\n",
              "      <th>10</th>\n",
              "      <td>43.300867</td>\n",
              "      <td>1.639693</td>\n",
              "    </tr>\n",
              "    <tr>\n",
              "      <th>11</th>\n",
              "      <td>40.021618</td>\n",
              "      <td>1.325174</td>\n",
              "    </tr>\n",
              "    <tr>\n",
              "      <th>12</th>\n",
              "      <td>41.134086</td>\n",
              "      <td>2.030275</td>\n",
              "    </tr>\n",
              "  </tbody>\n",
              "</table>\n",
              "</div>"
            ],
            "text/plain": [
              "      windgustspeed      rain\n",
              "date                         \n",
              "1         38.914542  3.543832\n",
              "2         38.726077  1.236085\n",
              "3         35.484642  2.382457\n",
              "4         34.109484  1.428870\n",
              "5         36.901726  2.124104\n",
              "6         35.303486  4.507929\n",
              "7         38.264725  2.608206\n",
              "8         36.176238  2.312475\n",
              "9         37.069945  2.982964\n",
              "10        43.300867  1.639693\n",
              "11        40.021618  1.325174\n",
              "12        41.134086  2.030275"
            ]
          },
          "execution_count": 37,
          "metadata": {},
          "output_type": "execute_result"
        }
      ],
      "source": [
        "filtro = df_weather2[df_weather2.index.year == 2016]\n",
        "filtro_mes = pd.DataFrame(filtro.groupby([filtro.index.month])['windgustspeed'].mean())\n",
        "filtro_lluvia = pd.DataFrame(filtro.groupby([filtro.index.month])['rainfall'].mean())\n",
        "\n",
        "data_preg_3 = filtro_mes.assign(rain = filtro_lluvia.rainfall)\n",
        "\n",
        "data_preg_3"
      ]
    },
    {
      "cell_type": "code",
      "execution_count": 38,
      "metadata": {},
      "outputs": [
        {
          "data": {
            "image/png": "[encoded data removed]",
            "text/plain": [
              "<Figure size 1440x720 with 1 Axes>"
            ]
          },
          "metadata": {
            "needs_background": "light"
          },
          "output_type": "display_data"
        }
      ],
      "source": [
        "data_preg_3.plot(kind='bar', title='Promedio de rafagas de viento por ml de lluvia por meses del año 2016', xlabel='Mes', ylabel='Promedio')\n",
        "plt.yticks(range(0,52,2));\n",
        "plt.gcf().set_size_inches(20, 10)"
      ]
    },
    {
      "cell_type": "markdown",
      "metadata": {
        "id": "AJPofOCt68C1"
      },
      "source": [
        "## Información y conocimiento útil obtenido (patrones, tendencias)"
      ]
    },
    {
      "cell_type": "markdown",
      "metadata": {
        "id": "hFvTYGoOpgo8"
      },
      "source": [
        "+ Se logro sacar el promedio de lluvia y de rafagas de viento por cada uno de los meses del año 2016, tomando en cuenta esto se puede decir que el mes de junio fue el que mas lluvia cayo, esto concuerda ya que es el mes en que comienza el invierno y las rafagas de viento son mas vareadas debido a que el clima en Australia es muy disperso \n",
        "+ los meses en que menos lluvia cayo, son los correspondientes a verano y otoño, aunque en australia el clima no sea parejo, esto concuerda con las estaciones del año\n",
        "+ Los meses en que se presentaron mas rafagas de viento fueron entre noviembre y febrero"
      ]
    },
    {
      "cell_type": "markdown",
      "metadata": {
        "id": "IgsttVU85F76"
      },
      "source": [
        "# Pregunta 4\n",
        "\n",
        "#### 4.- Conocer la o las ciudades que presenten nivel de humedad de las 3 pm superior al promedio"
      ]
    },
    {
      "cell_type": "markdown",
      "metadata": {
        "id": "ZGNU7ucR50JM"
      },
      "source": [
        "## Limpieza y transformación de la/las columnas involucradas en la pregunta"
      ]
    },
    {
      "cell_type": "markdown",
      "metadata": {
        "id": "NzHTmIs2pgo9"
      },
      "source": [
        "##### Columnas : \"location\", \"humidity3pm\""
      ]
    },
    {
      "cell_type": "markdown",
      "metadata": {},
      "source": [
        "+ Dado que la columna Location presenta 49 valores unicos, se toma la desición de realizar la transformación de la columna con LabelEncoder(). Esto es porque al usar OneHotEncoder() se crearán las columnas respectivas para cada uno de los valores unicos presentes en location"
      ]
    },
    {
      "cell_type": "code",
      "execution_count": 85,
      "metadata": {},
      "outputs": [
        {
          "data": {
            "text/plain": [
              "array([ 2,  2,  2, ..., 41, 41, 41])"
            ]
          },
          "execution_count": 85,
          "metadata": {},
          "output_type": "execute_result"
        }
      ],
      "source": [
        "#Se usará la misma variable encoder creada en la pregunta numero 1\n",
        "variable_pregunta_4 = df_weather2['location']\n",
        "variable_transfor_pregunta_4 = encoder.fit_transform(variable_pregunta_4)\n",
        "variable_transfor_pregunta_4"
      ]
    },
    {
      "cell_type": "code",
      "execution_count": 86,
      "metadata": {},
      "outputs": [
        {
          "data": {
            "text/html": [
              "<div>\n",
              "<style scoped>\n",
              "    .dataframe tbody tr th:only-of-type {\n",
              "        vertical-align: middle;\n",
              "    }\n",
              "\n",
              "    .dataframe tbody tr th {\n",
              "        vertical-align: top;\n",
              "    }\n",
              "\n",
              "    .dataframe thead th {\n",
              "        text-align: right;\n",
              "    }\n",
              "</style>\n",
              "<table border=\"1\" class=\"dataframe\">\n",
              "  <thead>\n",
              "    <tr style=\"text-align: right;\">\n",
              "      <th></th>\n",
              "      <th>location</th>\n",
              "      <th>location_transformada</th>\n",
              "      <th>mintemp</th>\n",
              "      <th>maxtemp</th>\n",
              "      <th>rainfall</th>\n",
              "      <th>evaporation</th>\n",
              "      <th>sunshine</th>\n",
              "      <th>windgustdir</th>\n",
              "      <th>windgustspeed</th>\n",
              "      <th>winddir9am</th>\n",
              "      <th>...</th>\n",
              "      <th>humidity3pm</th>\n",
              "      <th>pressure9am</th>\n",
              "      <th>pressure3pm</th>\n",
              "      <th>cloud9am</th>\n",
              "      <th>cloud3pm</th>\n",
              "      <th>temp9am</th>\n",
              "      <th>temp3pm</th>\n",
              "      <th>raintoday</th>\n",
              "      <th>risk_mm</th>\n",
              "      <th>raintomorrow</th>\n",
              "    </tr>\n",
              "    <tr>\n",
              "      <th>date</th>\n",
              "      <th></th>\n",
              "      <th></th>\n",
              "      <th></th>\n",
              "      <th></th>\n",
              "      <th></th>\n",
              "      <th></th>\n",
              "      <th></th>\n",
              "      <th></th>\n",
              "      <th></th>\n",
              "      <th></th>\n",
              "      <th></th>\n",
              "      <th></th>\n",
              "      <th></th>\n",
              "      <th></th>\n",
              "      <th></th>\n",
              "      <th></th>\n",
              "      <th></th>\n",
              "      <th></th>\n",
              "      <th></th>\n",
              "      <th></th>\n",
              "      <th></th>\n",
              "    </tr>\n",
              "  </thead>\n",
              "  <tbody>\n",
              "    <tr>\n",
              "      <th>2008-12-01</th>\n",
              "      <td>Albury</td>\n",
              "      <td>2</td>\n",
              "      <td>13.4</td>\n",
              "      <td>22.9</td>\n",
              "      <td>0.6</td>\n",
              "      <td>NaN</td>\n",
              "      <td>NaN</td>\n",
              "      <td>W</td>\n",
              "      <td>44.0</td>\n",
              "      <td>W</td>\n",
              "      <td>...</td>\n",
              "      <td>22.0</td>\n",
              "      <td>1007.7</td>\n",
              "      <td>1007.1</td>\n",
              "      <td>8.0</td>\n",
              "      <td>NaN</td>\n",
              "      <td>16.9</td>\n",
              "      <td>21.8</td>\n",
              "      <td>No</td>\n",
              "      <td>0.0</td>\n",
              "      <td>No</td>\n",
              "    </tr>\n",
              "    <tr>\n",
              "      <th>2008-12-02</th>\n",
              "      <td>Albury</td>\n",
              "      <td>2</td>\n",
              "      <td>7.4</td>\n",
              "      <td>25.1</td>\n",
              "      <td>0.0</td>\n",
              "      <td>NaN</td>\n",
              "      <td>NaN</td>\n",
              "      <td>WNW</td>\n",
              "      <td>44.0</td>\n",
              "      <td>NNW</td>\n",
              "      <td>...</td>\n",
              "      <td>25.0</td>\n",
              "      <td>1010.6</td>\n",
              "      <td>1007.8</td>\n",
              "      <td>NaN</td>\n",
              "      <td>NaN</td>\n",
              "      <td>17.2</td>\n",
              "      <td>24.3</td>\n",
              "      <td>No</td>\n",
              "      <td>0.0</td>\n",
              "      <td>No</td>\n",
              "    </tr>\n",
              "    <tr>\n",
              "      <th>2008-12-03</th>\n",
              "      <td>Albury</td>\n",
              "      <td>2</td>\n",
              "      <td>12.9</td>\n",
              "      <td>25.7</td>\n",
              "      <td>0.0</td>\n",
              "      <td>NaN</td>\n",
              "      <td>NaN</td>\n",
              "      <td>WSW</td>\n",
              "      <td>46.0</td>\n",
              "      <td>W</td>\n",
              "      <td>...</td>\n",
              "      <td>30.0</td>\n",
              "      <td>1007.6</td>\n",
              "      <td>1008.7</td>\n",
              "      <td>NaN</td>\n",
              "      <td>2.0</td>\n",
              "      <td>21.0</td>\n",
              "      <td>23.2</td>\n",
              "      <td>No</td>\n",
              "      <td>0.0</td>\n",
              "      <td>No</td>\n",
              "    </tr>\n",
              "    <tr>\n",
              "      <th>2008-12-04</th>\n",
              "      <td>Albury</td>\n",
              "      <td>2</td>\n",
              "      <td>9.2</td>\n",
              "      <td>28.0</td>\n",
              "      <td>0.0</td>\n",
              "      <td>NaN</td>\n",
              "      <td>NaN</td>\n",
              "      <td>NE</td>\n",
              "      <td>24.0</td>\n",
              "      <td>SE</td>\n",
              "      <td>...</td>\n",
              "      <td>16.0</td>\n",
              "      <td>1017.6</td>\n",
              "      <td>1012.8</td>\n",
              "      <td>NaN</td>\n",
              "      <td>NaN</td>\n",
              "      <td>18.1</td>\n",
              "      <td>26.5</td>\n",
              "      <td>No</td>\n",
              "      <td>1.0</td>\n",
              "      <td>No</td>\n",
              "    </tr>\n",
              "    <tr>\n",
              "      <th>2008-12-05</th>\n",
              "      <td>Albury</td>\n",
              "      <td>2</td>\n",
              "      <td>17.5</td>\n",
              "      <td>32.3</td>\n",
              "      <td>1.0</td>\n",
              "      <td>NaN</td>\n",
              "      <td>NaN</td>\n",
              "      <td>W</td>\n",
              "      <td>41.0</td>\n",
              "      <td>ENE</td>\n",
              "      <td>...</td>\n",
              "      <td>33.0</td>\n",
              "      <td>1010.8</td>\n",
              "      <td>1006.0</td>\n",
              "      <td>7.0</td>\n",
              "      <td>8.0</td>\n",
              "      <td>17.8</td>\n",
              "      <td>29.7</td>\n",
              "      <td>No</td>\n",
              "      <td>0.2</td>\n",
              "      <td>No</td>\n",
              "    </tr>\n",
              "  </tbody>\n",
              "</table>\n",
              "<p>5 rows × 24 columns</p>\n",
              "</div>"
            ],
            "text/plain": [
              "           location  location_transformada  mintemp  maxtemp  rainfall  \\\n",
              "date                                                                     \n",
              "2008-12-01   Albury                      2     13.4     22.9       0.6   \n",
              "2008-12-02   Albury                      2      7.4     25.1       0.0   \n",
              "2008-12-03   Albury                      2     12.9     25.7       0.0   \n",
              "2008-12-04   Albury                      2      9.2     28.0       0.0   \n",
              "2008-12-05   Albury                      2     17.5     32.3       1.0   \n",
              "\n",
              "            evaporation  sunshine windgustdir  windgustspeed winddir9am  ...  \\\n",
              "date                                                                     ...   \n",
              "2008-12-01          NaN       NaN           W           44.0          W  ...   \n",
              "2008-12-02          NaN       NaN         WNW           44.0        NNW  ...   \n",
              "2008-12-03          NaN       NaN         WSW           46.0          W  ...   \n",
              "2008-12-04          NaN       NaN          NE           24.0         SE  ...   \n",
              "2008-12-05          NaN       NaN           W           41.0        ENE  ...   \n",
              "\n",
              "           humidity3pm  pressure9am  pressure3pm  cloud9am  cloud3pm  temp9am  \\\n",
              "date                                                                            \n",
              "2008-12-01        22.0       1007.7       1007.1       8.0       NaN     16.9   \n",
              "2008-12-02        25.0       1010.6       1007.8       NaN       NaN     17.2   \n",
              "2008-12-03        30.0       1007.6       1008.7       NaN       2.0     21.0   \n",
              "2008-12-04        16.0       1017.6       1012.8       NaN       NaN     18.1   \n",
              "2008-12-05        33.0       1010.8       1006.0       7.0       8.0     17.8   \n",
              "\n",
              "            temp3pm  raintoday  risk_mm  raintomorrow  \n",
              "date                                                   \n",
              "2008-12-01     21.8         No      0.0            No  \n",
              "2008-12-02     24.3         No      0.0            No  \n",
              "2008-12-03     23.2         No      0.0            No  \n",
              "2008-12-04     26.5         No      1.0            No  \n",
              "2008-12-05     29.7         No      0.2            No  \n",
              "\n",
              "[5 rows x 24 columns]"
            ]
          },
          "execution_count": 86,
          "metadata": {},
          "output_type": "execute_result"
        }
      ],
      "source": [
        "df_transfor_pregunta_4 = df_weather2.copy()\n",
        "df_transfor_pregunta_4.insert(1, 'location_transformada', variable_transfor_pregunta_4)\n",
        "df_transfor_pregunta_4.head()"
      ]
    },
    {
      "cell_type": "code",
      "execution_count": 39,
      "metadata": {
        "id": "GHv79dxJ5524",
        "outputId": "a1938738-40f4-4879-f29c-59ad820ba7b7"
      },
      "outputs": [
        {
          "name": "stdout",
          "output_type": "stream",
          "text": [
            "La columna humidity3pm presenta 3610 valores nulos\n",
            "La columna location presenta 0 valores nulos\n"
          ]
        }
      ],
      "source": [
        "print(\"La columna humidity3pm presenta {0} valores nulos\".format(df_weather.humidity3pm.isnull().sum()))\n",
        "print(\"La columna location presenta {0} valores nulos\".format(df_weather.location.isnull().sum()))"
      ]
    },
    {
      "cell_type": "code",
      "execution_count": 40,
      "metadata": {
        "id": "N0SH8DH9pgo9",
        "outputId": "6067f908-aeed-421b-c161-e9c9a1ddb3a1"
      },
      "outputs": [
        {
          "data": {
            "image/png": "[encoded data removed]",
            "text/plain": [
              "<Figure size 720x720 with 1 Axes>"
            ]
          },
          "metadata": {
            "needs_background": "light"
          },
          "output_type": "display_data"
        }
      ],
      "source": [
        "plt.figure(figsize=(10,10))\n",
        "sns.boxplot(y=df_weather2.humidity3pm, data=df_weather2)\n",
        "plt.xlabel('Humedad a las 3pm')\n",
        "plt.ylabel('Valores')\n",
        "plt.title(r'Outliers de Humidity3pm');"
      ]
    },
    {
      "cell_type": "markdown",
      "metadata": {
        "id": "hSHax8oTpgo9"
      },
      "source": [
        "+ La columna \"humidity3pm\" no presenta valores atipicos, es por esto que los valores nulos serán reemplazados por la media de la columna"
      ]
    },
    {
      "cell_type": "code",
      "execution_count": 41,
      "metadata": {
        "id": "14VVTpAzpgo9",
        "outputId": "b968dcc7-1f0c-4263-f632-76bac8edb429"
      },
      "outputs": [
        {
          "name": "stdout",
          "output_type": "stream",
          "text": [
            "Valores nulos de la columna humidity3pm :  0\n"
          ]
        }
      ],
      "source": [
        "media = df_weather2.humidity3pm.mean()\n",
        "df_weather2.humidity3pm = df_weather2.humidity3pm.fillna(media)\n",
        "print(\"Valores nulos de la columna humidity3pm :  {0}\".format(df_weather2.humidity3pm.isnull().sum()))"
      ]
    },
    {
      "cell_type": "markdown",
      "metadata": {
        "id": "QsDLLLSe5_xt"
      },
      "source": [
        "## Análisis exploratorio de la/las columna/as involucradas en la pregunta"
      ]
    },
    {
      "cell_type": "markdown",
      "metadata": {
        "id": "Sk67zpDx6PLw"
      },
      "source": [
        "### Cálculo e interpretación de las medidas básicas de acuerdo con el tipo de variable"
      ]
    },
    {
      "cell_type": "code",
      "execution_count": 42,
      "metadata": {
        "id": "jIVoV7tF6GFs",
        "outputId": "508b58d0-3839-4930-f395-60ef377a6cf3"
      },
      "outputs": [
        {
          "data": {
            "text/plain": [
              "count    142193.000000\n",
              "mean         51.482606\n",
              "std          20.532065\n",
              "min           0.000000\n",
              "25%          37.000000\n",
              "50%          51.482606\n",
              "75%          65.000000\n",
              "max         100.000000\n",
              "Name: humidity3pm, dtype: float64"
            ]
          },
          "execution_count": 42,
          "metadata": {},
          "output_type": "execute_result"
        }
      ],
      "source": [
        "df_weather2['humidity3pm'].describe()"
      ]
    },
    {
      "cell_type": "markdown",
      "metadata": {
        "id": "jb-wi-xPpgo-"
      },
      "source": [
        "+ El promedio de humedad a las 3pm entre todas las ciudades de Australia es de 51%\n",
        "\n",
        "+ Aprximadamente el 68% de las ciudades tienen un nivel humedad a las 3pm entre 31% y 72%\n",
        "\n",
        "+ EL 75% de las ciudades presenta un nivel de humedad a las 3pm igual o inferior a 65%\n",
        "\n",
        "+ El 25% de las ciudades presenta un nivel de humedad a las 3 pm igual o inferior a 37%"
      ]
    },
    {
      "cell_type": "code",
      "execution_count": 43,
      "metadata": {
        "id": "rrdtgCY4pgo-",
        "outputId": "8b01f2e6-b5ea-4b6c-f0b8-6a3aec994a12"
      },
      "outputs": [
        {
          "name": "stdout",
          "output_type": "stream",
          "text": [
            "Extremo inferior 10.418619535588249 - Extremo superior : 92.54659264772033\n",
            "95.59471985259471\n"
          ]
        }
      ],
      "source": [
        "mean, std = np.mean(df_weather2.humidity3pm), np.std(df_weather2.humidity3pm)\n",
        "lim_inf, lim_sup = mean - 2*std, mean + 2*std\n",
        "print(\"Extremo inferior {0} - Extremo superior : {1}\".format(lim_inf, lim_sup))\n",
        "analizados = df_weather2.query(\"humidity3pm >= {0} & humidity3pm <= {1}\".format(lim_inf, lim_sup))['humidity3pm'].count()\n",
        "total = df_weather2.shape[0]\n",
        "print(analizados/total*100)"
      ]
    },
    {
      "cell_type": "markdown",
      "metadata": {
        "id": "PRHSf2ZBpgo-"
      },
      "source": [
        "+ Aproximadamente el 96% de los datos tiene un nivel de humedad entre 10% y 93%"
      ]
    },
    {
      "cell_type": "markdown",
      "metadata": {
        "id": "BFjOoCU9pgo-"
      },
      "source": [
        "##### Comprobar medidas "
      ]
    },
    {
      "cell_type": "code",
      "execution_count": 44,
      "metadata": {
        "id": "9AA8NENPpgo_",
        "outputId": "4e771add-7446-474d-a745-832b34a7ec01"
      },
      "outputs": [
        {
          "name": "stdout",
          "output_type": "stream",
          "text": [
            "Moda 51.482606091656265 - Mediana 51.482606091656265 - Media 51.48260609165429\n"
          ]
        }
      ],
      "source": [
        "moda = df_weather2.humidity3pm.mode()[0]\n",
        "mediana = df_weather2.humidity3pm.median()\n",
        "media = df_weather2.humidity3pm.mean()\n",
        "print(\"Moda {0} - Mediana {1} - Media {2}\".format(moda, mediana, media))"
      ]
    },
    {
      "cell_type": "code",
      "execution_count": 45,
      "metadata": {
        "id": "ElFmCvXtpgo_",
        "outputId": "18c8bfad-2fd1-418b-afe5-a4941ba45fc5"
      },
      "outputs": [
        {
          "name": "stdout",
          "output_type": "stream",
          "text": [
            "Intervalo = [30.95061281362127;72.01459936968732]\n",
            "67.6067035648731\n"
          ]
        }
      ],
      "source": [
        "mean, std = np.mean(df_weather2.humidity3pm), np.std(df_weather2.humidity3pm)\n",
        "lim_inf, lim_sup = mean - std, mean + std\n",
        "print(\"Intervalo = [{0};{1}]\".format(lim_inf, lim_sup))\n",
        "analizados = df_weather2.query(\"humidity3pm >= {0} & humidity3pm <= {1}\".format(lim_inf, lim_sup))['humidity3pm'].count()\n",
        "total = df_weather2.shape[0]\n",
        "print(analizados/total*100)"
      ]
    },
    {
      "cell_type": "code",
      "execution_count": 46,
      "metadata": {
        "id": "Xabh7m6Kpgo_",
        "outputId": "2fcc448c-3994-45d1-adcb-16df6be700ca"
      },
      "outputs": [
        {
          "name": "stdout",
          "output_type": "stream",
          "text": [
            "65.0\n",
            "75.4903546588088\n"
          ]
        }
      ],
      "source": [
        "cuartil_tres = np.quantile(df_weather2.humidity3pm, 0.75)\n",
        "print(cuartil_tres)\n",
        "analizados = df_weather2.query(\"humidity3pm <= {}\".format(cuartil_tres))['humidity3pm'].count()\n",
        "total = df_weather2.shape[0]\n",
        "print(analizados/total*100)"
      ]
    },
    {
      "cell_type": "code",
      "execution_count": 47,
      "metadata": {
        "id": "R5LU9rxBpgo_",
        "outputId": "d2c702e2-f4cd-48db-dd3f-29bc2aea3409"
      },
      "outputs": [
        {
          "name": "stdout",
          "output_type": "stream",
          "text": [
            "37.0\n",
            "25.61940461204138\n"
          ]
        }
      ],
      "source": [
        "cuartil_uno = np.quantile(df_weather2.humidity3pm, 0.25)\n",
        "print(cuartil_uno)\n",
        "analizados = df_weather2.query(\"humidity3pm <= {}\".format(cuartil_uno))['humidity3pm'].count()\n",
        "total = df_weather2.shape[0]\n",
        "print(analizados/total*100)"
      ]
    },
    {
      "cell_type": "markdown",
      "metadata": {
        "id": "DNy1tAWd6qm7"
      },
      "source": [
        "## Respuesta, vía código, a la pregunta"
      ]
    },
    {
      "cell_type": "code",
      "execution_count": 48,
      "metadata": {
        "id": "VeSm8VTA60ns",
        "outputId": "d7d77519-6526-4fc6-af00-03eec5372172"
      },
      "outputs": [
        {
          "data": {
            "text/html": [
              "<div>\n",
              "<style scoped>\n",
              "    .dataframe tbody tr th:only-of-type {\n",
              "        vertical-align: middle;\n",
              "    }\n",
              "\n",
              "    .dataframe tbody tr th {\n",
              "        vertical-align: top;\n",
              "    }\n",
              "\n",
              "    .dataframe thead th {\n",
              "        text-align: right;\n",
              "    }\n",
              "</style>\n",
              "<table border=\"1\" class=\"dataframe\">\n",
              "  <thead>\n",
              "    <tr style=\"text-align: right;\">\n",
              "      <th></th>\n",
              "      <th>humidity3pm</th>\n",
              "    </tr>\n",
              "    <tr>\n",
              "      <th>location</th>\n",
              "      <th></th>\n",
              "    </tr>\n",
              "  </thead>\n",
              "  <tbody>\n",
              "    <tr>\n",
              "      <th>MelbourneAirport</th>\n",
              "      <td>52.390710</td>\n",
              "    </tr>\n",
              "    <tr>\n",
              "      <th>Darwin</th>\n",
              "      <td>53.508197</td>\n",
              "    </tr>\n",
              "    <tr>\n",
              "      <th>Watsonia</th>\n",
              "      <td>55.463889</td>\n",
              "    </tr>\n",
              "    <tr>\n",
              "      <th>Melbourne</th>\n",
              "      <td>57.579198</td>\n",
              "    </tr>\n",
              "    <tr>\n",
              "      <th>Townsville</th>\n",
              "      <td>57.870523</td>\n",
              "    </tr>\n",
              "    <tr>\n",
              "      <th>Launceston</th>\n",
              "      <td>58.759563</td>\n",
              "    </tr>\n",
              "    <tr>\n",
              "      <th>Sale</th>\n",
              "      <td>58.883978</td>\n",
              "    </tr>\n",
              "    <tr>\n",
              "      <th>Witchcliffe</th>\n",
              "      <td>59.800562</td>\n",
              "    </tr>\n",
              "    <tr>\n",
              "      <th>CoffsHarbour</th>\n",
              "      <td>61.196721</td>\n",
              "    </tr>\n",
              "    <tr>\n",
              "      <th>MountGambier</th>\n",
              "      <td>61.269781</td>\n",
              "    </tr>\n",
              "    <tr>\n",
              "      <th>Dartmoor</th>\n",
              "      <td>61.463014</td>\n",
              "    </tr>\n",
              "    <tr>\n",
              "      <th>Ballarat</th>\n",
              "      <td>62.090659</td>\n",
              "    </tr>\n",
              "    <tr>\n",
              "      <th>Wollongong</th>\n",
              "      <td>62.917808</td>\n",
              "    </tr>\n",
              "    <tr>\n",
              "      <th>Cairns</th>\n",
              "      <td>64.248428</td>\n",
              "    </tr>\n",
              "    <tr>\n",
              "      <th>GoldCoast</th>\n",
              "      <td>64.749846</td>\n",
              "    </tr>\n",
              "    <tr>\n",
              "      <th>Portland</th>\n",
              "      <td>65.674931</td>\n",
              "    </tr>\n",
              "    <tr>\n",
              "      <th>NorahHead</th>\n",
              "      <td>66.320548</td>\n",
              "    </tr>\n",
              "    <tr>\n",
              "      <th>Walpole</th>\n",
              "      <td>69.498575</td>\n",
              "    </tr>\n",
              "    <tr>\n",
              "      <th>NorfolkIsland</th>\n",
              "      <td>70.411594</td>\n",
              "    </tr>\n",
              "    <tr>\n",
              "      <th>MountGinini</th>\n",
              "      <td>71.182144</td>\n",
              "    </tr>\n",
              "  </tbody>\n",
              "</table>\n",
              "</div>"
            ],
            "text/plain": [
              "                  humidity3pm\n",
              "location                     \n",
              "MelbourneAirport    52.390710\n",
              "Darwin              53.508197\n",
              "Watsonia            55.463889\n",
              "Melbourne           57.579198\n",
              "Townsville          57.870523\n",
              "Launceston          58.759563\n",
              "Sale                58.883978\n",
              "Witchcliffe         59.800562\n",
              "CoffsHarbour        61.196721\n",
              "MountGambier        61.269781\n",
              "Dartmoor            61.463014\n",
              "Ballarat            62.090659\n",
              "Wollongong          62.917808\n",
              "Cairns              64.248428\n",
              "GoldCoast           64.749846\n",
              "Portland            65.674931\n",
              "NorahHead           66.320548\n",
              "Walpole             69.498575\n",
              "NorfolkIsland       70.411594\n",
              "MountGinini         71.182144"
            ]
          },
          "execution_count": 48,
          "metadata": {},
          "output_type": "execute_result"
        }
      ],
      "source": [
        "filtro_annio = df_weather2[df_weather2.index.year == 2016]\n",
        "promedio = filtro_annio.humidity3pm.mean()\n",
        "df_4 = pd.DataFrame(filtro_annio.groupby('location')['humidity3pm'].mean())\n",
        "filtro_pregunta_4 = df_4[df_4.humidity3pm > promedio].sort_values('humidity3pm')\n",
        "filtro_pregunta_4\n"
      ]
    },
    {
      "cell_type": "code",
      "execution_count": 49,
      "metadata": {
        "id": "vH-hoz-5pgpA",
        "outputId": "a29ac81a-dbf9-4d57-f07d-e66765f9d9e7"
      },
      "outputs": [
        {
          "data": {
            "image/png": "[encoded data removed]",
            "text/plain": [
              "<Figure size 1440x720 with 1 Axes>"
            ]
          },
          "metadata": {
            "needs_background": "light"
          },
          "output_type": "display_data"
        }
      ],
      "source": [
        "sns.barplot(x=filtro_pregunta_4.index, y=filtro_pregunta_4.humidity3pm)\n",
        "plt.title(\"Ciudades con el nivel de humedad a las 3pm superior al promedio\")\n",
        "plt.xlabel(\"Ciudad\")\n",
        "plt.ylabel(\"Porcentaje de humedad\")\n",
        "plt.yticks(range(0,85,5));\n",
        "plt.xticks(rotation=90)  \n",
        "plt.gcf().set_size_inches(20, 10)"
      ]
    },
    {
      "cell_type": "markdown",
      "metadata": {
        "id": "3aDTuZ9o69ND"
      },
      "source": [
        "## Información y conocimiento útil obtenido (patrones, tendencias)"
      ]
    },
    {
      "cell_type": "markdown",
      "metadata": {
        "id": "82Q1LD1-pgpA"
      },
      "source": [
        "+ CoffsHarbour, MountGambier, Dartmoo presentan un nivel de humedad igual a 61%\n",
        "+ El 40% de las ciudades presenta un nivel de humedad inferior a 60%"
      ]
    }
  ],
  "metadata": {
    "colab": {
      "collapsed_sections": [],
      "name": "MDY7101_E1_Grupo7_Seccion_004.ipynb",
      "provenance": []
    },
    "kernelspec": {
      "display_name": "Python 3",
      "name": "python3"
    },
    "language_info": {
      "codemirror_mode": {
        "name": "ipython",
        "version": 3
      },
      "file_extension": ".py",
      "mimetype": "text/x-python",
      "name": "python",
      "nbconvert_exporter": "python",
      "pygments_lexer": "ipython3",
      "version": "3.9.7"
    }
  },
  "nbformat": 4,
  "nbformat_minor": 0
}
